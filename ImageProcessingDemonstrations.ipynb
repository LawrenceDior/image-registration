{
 "cells": [
  {
   "cell_type": "markdown",
   "metadata": {},
   "source": [
    "# Setup"
   ]
  },
  {
   "cell_type": "markdown",
   "metadata": {},
   "source": [
    "### Load contents of setup.py"
   ]
  },
  {
   "cell_type": "code",
   "execution_count": 2,
   "metadata": {},
   "outputs": [
    {
     "name": "stderr",
     "output_type": "stream",
     "text": [
      "WARNING:hyperspy_gui_traitsui:The module://ipykernel.pylab.backend_inline matplotlib backend is not supported by the installed traitsui version and the ETS toolkit has been set to null. To set the ETS toolkit independently from the matplotlib backend, set it before importing matplotlib. See http://hyperspy.readthedocs.io/en/stable/user_guide/getting_started.html for more information.\n",
      "WARNING:hyperspy_gui_traitsui:The traitsui GUI elements are not available.\n"
     ]
    }
   ],
   "source": [
    "# %load setup.py\n",
    "import cv2\n",
    "import h5py  # hdf5 reader/writer\n",
    "import hyperspy.api as hs  # hyperspy\n",
    "import ImageProcessingMethods as ipm\n",
    "import math\n",
    "import matplotlib.pyplot as plt\n",
    "import numpy as np\n",
    "import SimpleITK as sitk\n",
    "import skimage\n",
    "\n",
    "from scipy import ndimage as ndi\n",
    "from scipy import signal\n",
    "from scipy.ndimage.filters import gaussian_filter\n",
    "\n",
    "# Load signal data from files\n",
    "\n",
    "fin_1 = h5py.File(\"data/89109_16_Fe_mantis_norm.hdf5\")\n",
    "data_1 = fin_1[\"/exchange/data\"]\n",
    "signal_1 = hs.signals.Signal2D(data_1)\n",
    "signal_1 = signal_1.transpose(signal_axes=(0,2))\n",
    "\n",
    "fin_2 = h5py.File(\"data/mantis_55510_55660.hdf5\")\n",
    "data_2 = fin_2[\"/exchange/data\"]\n",
    "signal_2 = hs.signals.Signal2D(data_2)\n",
    "signal_2 = signal_2.transpose(signal_axes=(0,2))\n",
    "\n",
    "fin_3 = h5py.File(\"data/mantis_raw_55499_55509.hdf5\")\n",
    "data_3 = fin_3[\"/exchange/data\"]\n",
    "signal_3 = hs.signals.Signal2D(data_3)\n",
    "signal_3 = signal_3.transpose(signal_axes=(0,2))\n",
    "\n",
    "signal_4 = hs.load(\"data/0005-RotSTEM90 ADF1.dm3\")\n",
    "signal_5 = hs.load(\"data/20_Aligned 20-Stack-5MxHAADF STACK(20).dm3\")\n",
    "\n",
    "# Generate a very simple synthetic signal for demonstration purposes\n",
    "\n",
    "height = 38\n",
    "width = 46\n",
    "\n",
    "vfield_1 = np.array([np.ones((height, width)) * -2, np.ones((height, width)) * +1])\n",
    "vfield_2 = np.array([np.ones((height, width)) * -2.7, np.ones((height, width)) * +1.2])\n",
    "\n",
    "arr_A = ipm.make_capital_A((height, width))\n",
    "signal_A = hs.signals.Signal2D(np.array([arr_A, ipm.apply_displacement_field_sitk(vfield_1, arr_A), ipm.apply_displacement_field_sitk(vfield_2, arr_A)]))\n",
    "\n",
    "arr_i = np.arange(height).reshape(height, 1)\n",
    "arr_j = np.arange(width).reshape(1, width)\n",
    "# i_plus, i_minus: vertical coordinates of +ve and -ve 'charges'\n",
    "i_plus = height * 0.75\n",
    "i_minus = height * 0.25\n",
    "# j_plus, j_minus: horizontal coordinates of +ve and -ve 'charges'\n",
    "j_plus = width * 0.25\n",
    "j_minus = width * 0.75\n",
    "# dsquared_plus[i][j] = distance squared between +ve 'charge' and pixel i,j\n",
    "# dsquared_minus[i][j] = distance squared between -ve 'charge' and pixel i,j\n",
    "dsquared_plus = (arr_i - i_plus)**2 + (arr_j - j_plus)**2\n",
    "dsquared_minus = (arr_i - i_minus)**2 + (arr_j - j_minus)**2\n",
    "scale = 2\n",
    "power = 2\n",
    "\n",
    "# vfield_3 represents a shift similar to the force experienced by a small test charge under the influence of two fixed point charges: one positive, one negative. Unlike vfield_1 and vfield_2, it is non-uniform.\n",
    "# vfield_3[i][j] = scale * sum[r_hat * 'charge' * (1/distance from 'charge')^power]\n",
    "# r_hat = (i - i_plus)/(dsquared^0.5)\n",
    "# therefore vfield_3[i][j] = scale * sum[(i - i_plus) * 'charge' * (1/distance from 'charge')^(power+1)]\n",
    "factor_plus = scale * (dsquared_plus**(-0.5*(1+power)))\n",
    "factor_minus = scale * (dsquared_minus**(-0.5*(1+power)))\n",
    "vfield_3_i = (arr_i - i_plus) * factor_plus + (i_minus - arr_i) * factor_minus\n",
    "vfield_3_j = (arr_j - j_plus) * factor_plus + (j_minus - arr_j) * factor_minus\n",
    "vfield_3 = np.array([vfield_3_i, vfield_3_j])"
   ]
  },
  {
   "cell_type": "markdown",
   "metadata": {},
   "source": [
    "### Display the unmodified datasets\n",
    "Use `%matplotlib qt` to set up IPython for interactive plotting with matplotlib."
   ]
  },
  {
   "cell_type": "code",
   "execution_count": 5,
   "metadata": {},
   "outputs": [],
   "source": [
    "%matplotlib qt\n",
    "signal_1.plot()"
   ]
  },
  {
   "cell_type": "code",
   "execution_count": 10,
   "metadata": {},
   "outputs": [],
   "source": [
    "%matplotlib qt\n",
    "signal_2.plot()"
   ]
  },
  {
   "cell_type": "code",
   "execution_count": 10,
   "metadata": {},
   "outputs": [],
   "source": [
    "%matplotlib qt\n",
    "signal_3.plot()"
   ]
  },
  {
   "cell_type": "code",
   "execution_count": 4,
   "metadata": {},
   "outputs": [],
   "source": [
    "%matplotlib qt\n",
    "signal_4.plot()"
   ]
  },
  {
   "cell_type": "code",
   "execution_count": 5,
   "metadata": {},
   "outputs": [],
   "source": [
    "%matplotlib qt\n",
    "signal_5.plot()"
   ]
  },
  {
   "cell_type": "code",
   "execution_count": 10,
   "metadata": {},
   "outputs": [],
   "source": [
    "%matplotlib qt\n",
    "signal_A.plot()"
   ]
  },
  {
   "cell_type": "code",
   "execution_count": 2,
   "metadata": {},
   "outputs": [
    {
     "data": {
      "text/plain": [
       "<matplotlib.image.AxesImage at 0x7f6113cd4b38>"
      ]
     },
     "execution_count": 2,
     "metadata": {},
     "output_type": "execute_result"
    },
    {
     "data": {
      "image/png": "[encoded data removed]",
      "text/plain": [
       "<Figure size 348.632x288 with 1 Axes>"
      ]
     },
     "metadata": {},
     "output_type": "display_data"
    }
   ],
   "source": [
    "plt.matshow(arr_A)"
   ]
  },
  {
   "cell_type": "markdown",
   "metadata": {},
   "source": [
    "# Method demonstrations"
   ]
  },
  {
   "cell_type": "markdown",
   "metadata": {},
   "source": [
    "## Comparing each pixel with the image as a whole"
   ]
  },
  {
   "cell_type": "markdown",
   "metadata": {},
   "source": [
    "#### `ipm.get_signal_average_difference( signal_in: hs.signals.Signal2D )`\n",
    "\n",
    "Average intensity difference across whole image from current pixel.\n",
    "\n",
    "A'(i, j) = mean value of |A - A(i, j)|"
   ]
  },
  {
   "cell_type": "code",
   "execution_count": 7,
   "metadata": {},
   "outputs": [],
   "source": [
    "avg_diff_1 = ipm.get_signal_average_difference(signal_1)"
   ]
  },
  {
   "cell_type": "code",
   "execution_count": 5,
   "metadata": {},
   "outputs": [],
   "source": [
    "%matplotlib qt\n",
    "hs.plot.plot_signals([signal_1, avg_diff_1])"
   ]
  },
  {
   "cell_type": "markdown",
   "metadata": {},
   "source": [
    "#### `ipm.get_signal_average_rank_difference( signal_in: hs.signals.Signal2D, weighted=False )`\n",
    "\n",
    "Average intensity rank difference across whole image from current pixel.\n",
    "\n",
    "A'(i, j) = mean value of |R - R(i, j)|, where A(i, j) is the R(i, j)<sup>th</sup>-brightest pixel\n",
    "\n",
    "If `weighted` is True, the differences are each multiplied by the mean value of the absolute difference between the current image and the intensity of the current pixel."
   ]
  },
  {
   "cell_type": "code",
   "execution_count": 6,
   "metadata": {},
   "outputs": [],
   "source": [
    "avg_rank_diff_1 = ipm.get_signal_average_rank_difference(signal_1)\n",
    "avg_rank_diff_1_weighted = ipm.get_signal_average_rank_difference(signal_1, weighted=True)"
   ]
  },
  {
   "cell_type": "code",
   "execution_count": 7,
   "metadata": {},
   "outputs": [],
   "source": [
    "%matplotlib qt\n",
    "hs.plot.plot_signals([signal_1, avg_diff_1, avg_rank_diff_1, avg_rank_diff_1_weighted])"
   ]
  },
  {
   "cell_type": "markdown",
   "metadata": {},
   "source": [
    "## Exploring a signal's temporal characteristics"
   ]
  },
  {
   "cell_type": "markdown",
   "metadata": {},
   "source": [
    "#### `ipm.get_deltas( signal_in: hs.signals.Signal2D, absolute=False, normalised=True )`\n",
    "\n",
    "Difference between next and current intensity of each pixel.\n",
    "\n",
    "Returns a signal of type `hs.signals.Signal2D`"
   ]
  },
  {
   "cell_type": "code",
   "execution_count": 6,
   "metadata": {},
   "outputs": [],
   "source": [
    "deltas_1 = ipm.get_deltas(signal_1)\n",
    "# deltas_1.data[t] = signal_1.data[t+1] - signal_1.data[t]\n",
    "\n",
    "# Append an all-zero image to deltas_1 so that deltas_1 has the same number of images as signal_1\n",
    "deltas_1 = hs.signals.Signal2D(np.append(deltas_1.data, [np.zeros_like(deltas_1.data[0])], axis=0))\n",
    "\n",
    "# Display signal_1 and deltas_1\n",
    "hs.plot.plot_signals([signal_1, deltas_1])"
   ]
  },
  {
   "cell_type": "markdown",
   "metadata": {},
   "source": [
    "#### `ipm.split_by_mutual_information( signal_in: hs.signals.Signal2D, threshold=0.3 )`\n",
    "\n",
    "Split a signal into a list of numpy arrays of images. Each numpy array in the list contains a subsection of the original signal. For each image in a subsection, the mutual information between that image and the first image in the subsection must be at least some value given by the `threshold` parameter."
   ]
  },
  {
   "cell_type": "code",
   "execution_count": 4,
   "metadata": {},
   "outputs": [],
   "source": [
    "list_1 = ipm.split_by_mutual_information(signal_1)\n",
    "list_2 = ipm.split_by_mutual_information(signal_2)\n",
    "list_3 = ipm.split_by_mutual_information(signal_3)"
   ]
  },
  {
   "cell_type": "markdown",
   "metadata": {},
   "source": [
    "#### Print the number of subsections in each list"
   ]
  },
  {
   "cell_type": "code",
   "execution_count": 5,
   "metadata": {},
   "outputs": [
    {
     "data": {
      "text/plain": [
       "[24, 10, 1]"
      ]
     },
     "execution_count": 5,
     "metadata": {},
     "output_type": "execute_result"
    }
   ],
   "source": [
    "[len(list_1), len(list_2), len(list_3)]"
   ]
  },
  {
   "cell_type": "markdown",
   "metadata": {},
   "source": [
    "#### Print the number of images in each subsection of each list"
   ]
  },
  {
   "cell_type": "code",
   "execution_count": 6,
   "metadata": {},
   "outputs": [
    {
     "data": {
      "text/plain": [
       "[[11, 38, 25, 26, 1, 3, 2, 1, 3, 2, 1, 4, 1, 1, 3, 1, 1, 1, 1, 1, 1, 1, 1, 1],\n",
       " [61, 78, 4, 1, 1, 1, 1, 1, 1, 1],\n",
       " [1]]"
      ]
     },
     "execution_count": 6,
     "metadata": {},
     "output_type": "execute_result"
    }
   ],
   "source": [
    "lengths = [[],[],[]]\n",
    "for i in range(len(list_1)):\n",
    "    lengths[0].append(list_1[i].shape[0])\n",
    "for i in range(len(list_2)):\n",
    "    lengths[1].append(list_2[i].shape[0])\n",
    "for i in range(len(list_3)):\n",
    "    lengths[2].append(list_3[i].shape[0])\n",
    "lengths"
   ]
  },
  {
   "cell_type": "markdown",
   "metadata": {},
   "source": [
    "#### Display the images in the first subsection of `list_1`"
   ]
  },
  {
   "cell_type": "code",
   "execution_count": 7,
   "metadata": {},
   "outputs": [],
   "source": [
    "%matplotlib qt\n",
    "hs.signals.Signal2D(list_1[0]).plot()"
   ]
  },
  {
   "cell_type": "markdown",
   "metadata": {},
   "source": [
    "#### Apply nonrigid registration to this subsection. Display both the original and registered signal."
   ]
  },
  {
   "cell_type": "code",
   "execution_count": 8,
   "metadata": {},
   "outputs": [],
   "source": [
    "out_stack = ipm.nonrigid(list_1[0], default_pixel_value = list_1[0].mean())\n",
    "%matplotlib qt\n",
    "hs.plot.plot_signals([hs.signals.Signal2D(list_1[0]), hs.signals.Signal2D(out_stack)])"
   ]
  },
  {
   "cell_type": "markdown",
   "metadata": {},
   "source": [
    "#### `ipm.highest_mutual_information_index(signal_in: hs.signals.Signal2D, exponent=1)`\n",
    "\n",
    "Iterates over an image stack. For each image, the sum of the mutual information between that image and each other image (raised to the power `exponent`) is calculated. The index of the image for which this value is greatest is returned.\n",
    "\n",
    "For `exponent` values less than 1, low mutual information pairs are more heavily penalised: the index returned will correspond to an image that is moderately representative of the whole stack.\n",
    "    \n",
    "For `exponent` values greater than 1, high mutual information pairs are more strongly rewarded: the index returned will correspond to an image that is highly representative of some subset of the stack."
   ]
  },
  {
   "cell_type": "code",
   "execution_count": 12,
   "metadata": {},
   "outputs": [],
   "source": [
    "max_mi_1 = ipm.highest_mutual_information_index(signal_1)\n",
    "max_mi_2 = ipm.highest_mutual_information_index(signal_2)\n",
    "max_mi_3 = ipm.highest_mutual_information_index(signal_3)\n",
    "max_mi_4 = ipm.highest_mutual_information_index(signal_4)\n",
    "max_mi_5 = ipm.highest_mutual_information_index(signal_5)\n",
    "max_mi_A = ipm.highest_mutual_information_index(signal_A)"
   ]
  },
  {
   "cell_type": "markdown",
   "metadata": {},
   "source": [
    "#### Print the image indices returned above"
   ]
  },
  {
   "cell_type": "code",
   "execution_count": 19,
   "metadata": {},
   "outputs": [
    {
     "data": {
      "text/plain": [
       "[33, 66, 7, 18, 8, 1]"
      ]
     },
     "execution_count": 19,
     "metadata": {},
     "output_type": "execute_result"
    }
   ],
   "source": [
    "[max_mi_1, max_mi_2, max_mi_3, max_mi_4, max_mi_5, max_mi_A]"
   ]
  },
  {
   "cell_type": "markdown",
   "metadata": {},
   "source": [
    "#### Display the image in `signal_1` corresponding to the index `max_mi_1`. This may be considered as the element of `signal_1` that best represents the whole image stack."
   ]
  },
  {
   "cell_type": "code",
   "execution_count": 13,
   "metadata": {},
   "outputs": [
    {
     "data": {
      "text/plain": [
       "<matplotlib.image.AxesImage at 0x7fad9986d400>"
      ]
     },
     "execution_count": 13,
     "metadata": {},
     "output_type": "execute_result"
    },
    {
     "data": {
      "image/png": "[encoded data removed]",
      "text/plain": [
       "<Figure size 348.632x288 with 1 Axes>"
      ]
     },
     "metadata": {},
     "output_type": "display_data"
    }
   ],
   "source": [
    "plt.matshow(signal_1.data[max_mi_1])"
   ]
  },
  {
   "cell_type": "markdown",
   "metadata": {},
   "source": [
    "#### Display the \"most representative\" image in `signal_2`"
   ]
  },
  {
   "cell_type": "code",
   "execution_count": 18,
   "metadata": {},
   "outputs": [
    {
     "data": {
      "text/plain": [
       "<matplotlib.image.AxesImage at 0x7fad996b40b8>"
      ]
     },
     "execution_count": 18,
     "metadata": {},
     "output_type": "execute_result"
    },
    {
     "data": {
      "image/png": "[encoded data removed]",
      "text/plain": [
       "<Figure size 362.667x288 with 1 Axes>"
      ]
     },
     "metadata": {},
     "output_type": "display_data"
    }
   ],
   "source": [
    "plt.matshow(signal_2.data[max_mi_2])"
   ]
  },
  {
   "cell_type": "markdown",
   "metadata": {},
   "source": [
    "#### Display the \"most representative\" image in `signal_3`"
   ]
  },
  {
   "cell_type": "code",
   "execution_count": 17,
   "metadata": {},
   "outputs": [
    {
     "data": {
      "text/plain": [
       "<matplotlib.image.AxesImage at 0x7fad996dc7f0>"
      ]
     },
     "execution_count": 17,
     "metadata": {},
     "output_type": "execute_result"
    },
    {
     "data": {
      "image/png": "[encoded data removed]",
      "text/plain": [
       "<Figure size 483.254x288 with 1 Axes>"
      ]
     },
     "metadata": {},
     "output_type": "display_data"
    }
   ],
   "source": [
    "plt.matshow(signal_3.data[max_mi_3])"
   ]
  },
  {
   "cell_type": "markdown",
   "metadata": {},
   "source": [
    "#### Display the \"most representative\" image in `signal_4`"
   ]
  },
  {
   "cell_type": "code",
   "execution_count": 16,
   "metadata": {},
   "outputs": [
    {
     "data": {
      "text/plain": [
       "<matplotlib.image.AxesImage at 0x7fad99782940>"
      ]
     },
     "execution_count": 16,
     "metadata": {},
     "output_type": "execute_result"
    },
    {
     "data": {
      "image/png": "[encoded data removed]",
      "text/plain": [
       "<Figure size 288x288 with 1 Axes>"
      ]
     },
     "metadata": {},
     "output_type": "display_data"
    }
   ],
   "source": [
    "plt.matshow(signal_4.data[max_mi_4])"
   ]
  },
  {
   "cell_type": "markdown",
   "metadata": {},
   "source": [
    "#### Display the \"most representative\" image in `signal_5`"
   ]
  },
  {
   "cell_type": "code",
   "execution_count": 15,
   "metadata": {},
   "outputs": [
    {
     "data": {
      "text/plain": [
       "<matplotlib.image.AxesImage at 0x7fad997a6518>"
      ]
     },
     "execution_count": 15,
     "metadata": {},
     "output_type": "execute_result"
    },
    {
     "data": {
      "image/png": "[encoded data removed]",
      "text/plain": [
       "<Figure size 288x288 with 1 Axes>"
      ]
     },
     "metadata": {},
     "output_type": "display_data"
    }
   ],
   "source": [
    "plt.matshow(signal_5.data[max_mi_5])"
   ]
  },
  {
   "cell_type": "markdown",
   "metadata": {},
   "source": [
    "#### Display the \"most representative\" image in `signal_A`"
   ]
  },
  {
   "cell_type": "code",
   "execution_count": 14,
   "metadata": {},
   "outputs": [
    {
     "data": {
      "text/plain": [
       "<matplotlib.image.AxesImage at 0x7fad9984b4a8>"
      ]
     },
     "execution_count": 14,
     "metadata": {},
     "output_type": "execute_result"
    },
    {
     "data": {
      "image/png": "[encoded data removed]",
      "text/plain": [
       "<Figure size 348.632x288 with 1 Axes>"
      ]
     },
     "metadata": {},
     "output_type": "display_data"
    }
   ],
   "source": [
    "plt.matshow(signal_A.data[max_mi_A])"
   ]
  },
  {
   "cell_type": "markdown",
   "metadata": {},
   "source": [
    "## Exploring a signal's spatial characteristics\n",
    "\n",
    "#### `ipm.get_neighbour_similarity( arr_in: np.array, exponent=2 )`\n",
    "\n",
    "Similarity to neighbouring pixels relative to whole image.\n",
    "    \n",
    "The purpose of this method is to obtain a measure of confidence in the intensity value of each pixel. High confidence values are given to pixels that are similar to their neighbours and dissimilar from the average pixel.\n",
    "\n",
    "The optional `exponent` parameter controls the strength with which distance between pixels is penalised. If `exponent` is large (say, greater than 2), only pixels very close to the pixel under consideration may be considered 'neighbours'.\n",
    "\n",
    "Ultimately, this or a similar method may be used in conjunction with an optical flow algorithm to determine the strength of the smoothness constraint at each point.\n",
    "\n",
    "The current implementation of this method is quite crude, but nonetheless produces qualitatively sensible results."
   ]
  },
  {
   "cell_type": "code",
   "execution_count": 6,
   "metadata": {},
   "outputs": [
    {
     "data": {
      "text/plain": [
       "<matplotlib.image.AxesImage at 0x7f1e47e12940>"
      ]
     },
     "execution_count": 6,
     "metadata": {},
     "output_type": "execute_result"
    },
    {
     "data": {
      "image/png": "[encoded data removed]",
      "text/plain": [
       "<Figure size 697.263x288 with 1 Axes>"
      ]
     },
     "metadata": {},
     "output_type": "display_data"
    }
   ],
   "source": [
    "# Run `get_neighbour_similarity` on one of the clearer images in signal_1\n",
    "ns_1_94 = ipm.get_neighbour_similarity(signal_1.data[94])\n",
    "\n",
    "# Normalise both arrays (otherwise the original appears very light and ns_1_94 appears very dark)\n",
    "range_pre = signal_1.data[94].max() - signal_1.data[94].min()\n",
    "signal_1_94_normalised = (signal_1.data[94] - signal_1.data[94].min()) / range_pre\n",
    "range_post = ns_1_94.max() - ns_1_94.min()\n",
    "ns_1_94_normalised = (ns_1_94 - ns_1_94.min()) / range_post\n",
    "\n",
    "# Display side by side\n",
    "plt.matshow(np.hstack((signal_1_94_normalised, ns_1_94_normalised)))"
   ]
  },
  {
   "cell_type": "markdown",
   "metadata": {},
   "source": [
    "#### `ipm.get_signal_neighbour_similarity( signal_in: hs.signals.Signal2D, exponent=2 )`\n",
    "\n",
    "Run `get_neighbour_similarity` on a whole image stack."
   ]
  },
  {
   "cell_type": "code",
   "execution_count": 10,
   "metadata": {},
   "outputs": [],
   "source": [
    "ns_2 = ipm.get_signal_neighbour_similarity(signal_2)\n",
    "%matplotlib qt\n",
    "hs.plot.plot_signals([signal_2, ns_2])"
   ]
  },
  {
   "cell_type": "markdown",
   "metadata": {},
   "source": [
    "## Applying a displacement field"
   ]
  },
  {
   "cell_type": "markdown",
   "metadata": {},
   "source": [
    "#### `ipm.apply_displacement_field( displacements: np.array, arr_2d_in: np.array, debug=False )`\n",
    "\n",
    "Apply a displacement field to an image.\n",
    "\n",
    "`displacements` (numpy array of shape (2, height, width)) is a pair of displacement fields: the first is vertical and the second is horizontal.\n",
    "\n",
    "`arr_2d_in` (numpy array of shape (height, width)) is the image to which the displacement field will be applied.\n",
    "\n",
    "A list of length 2 is returned. The first element is a displaced image (numpy array of shape (height, width)). The second element is a \"sum of weights\" matrix (used for debugging)."
   ]
  },
  {
   "cell_type": "code",
   "execution_count": 5,
   "metadata": {},
   "outputs": [],
   "source": [
    "[shifted_A1, sow_A1] = ipm.apply_displacement_field(vfield_1, arr_A)\n",
    "[shifted_A2, sow_A2] = ipm.apply_displacement_field(vfield_2, arr_A)\n",
    "[shifted_A3, sow_A3] = ipm.apply_displacement_field(vfield_3, arr_A)"
   ]
  },
  {
   "cell_type": "code",
   "execution_count": 9,
   "metadata": {},
   "outputs": [
    {
     "data": {
      "text/plain": [
       "<matplotlib.image.AxesImage at 0x7f0bbfa92f98>"
      ]
     },
     "execution_count": 9,
     "metadata": {},
     "output_type": "execute_result"
    },
    {
     "data": {
      "image/png": "[encoded data removed]",
      "text/plain": [
       "<Figure size 1152x237.913 with 1 Axes>"
      ]
     },
     "metadata": {},
     "output_type": "display_data"
    }
   ],
   "source": [
    "plt.matshow(np.hstack((arr_A, shifted_A1, shifted_A2, shifted_A3)))"
   ]
  },
  {
   "cell_type": "markdown",
   "metadata": {},
   "source": [
    "#### `ipm.apply_displacement_field_sitk( displacements: np.array, arr_2d_in: np.array, rearrange=True )`\n",
    "\n",
    "Apply a displacement field using SimpleITK.\n",
    "\n",
    "A displaced image (numpy array of shape (height, width)) is returned."
   ]
  },
  {
   "cell_type": "code",
   "execution_count": 7,
   "metadata": {},
   "outputs": [],
   "source": [
    "shifted_A1_sitk = ipm.apply_displacement_field_sitk(vfield_1, arr_A)\n",
    "shifted_A2_sitk = ipm.apply_displacement_field_sitk(vfield_2, arr_A)\n",
    "shifted_A3_sitk = ipm.apply_displacement_field_sitk(vfield_3, arr_A)"
   ]
  },
  {
   "cell_type": "code",
   "execution_count": 10,
   "metadata": {},
   "outputs": [
    {
     "data": {
      "text/plain": [
       "<matplotlib.image.AxesImage at 0x7f0bbf9e9b70>"
      ]
     },
     "execution_count": 10,
     "metadata": {},
     "output_type": "execute_result"
    },
    {
     "data": {
      "image/png": "[encoded data removed]",
      "text/plain": [
       "<Figure size 1152x237.913 with 1 Axes>"
      ]
     },
     "metadata": {},
     "output_type": "display_data"
    }
   ],
   "source": [
    "plt.matshow(np.hstack((arr_A, shifted_A1_sitk, shifted_A2_sitk, shifted_A3_sitk)))"
   ]
  },
  {
   "cell_type": "markdown",
   "metadata": {},
   "source": [
    "Note that there are differences between `shifted_A2` and `shifted_A2_sitk`, and between `shifted_A3` and `shifted_A3_sitk`. The SITK method for applying a displacement field will henceforth be used instead of `ipm.apply_displacement_field`."
   ]
  },
  {
   "cell_type": "markdown",
   "metadata": {},
   "source": [
    "## Rigid registration"
   ]
  },
  {
   "cell_type": "markdown",
   "metadata": {},
   "source": [
    "#### `hs.signals.Signal2D.estimate_shift2D( reference='current', correlation_threshold=None, chunk_size=30, roi=None, normalize_corr=False, sobel=True, medfilter=True, hanning=True, plot=False, dtype='float', show_progressbar=None, sub_pixel_factor=1 )`"
   ]
  },
  {
   "cell_type": "markdown",
   "metadata": {},
   "source": [
    "#### Estimate shifts relative to the first image in the stack"
   ]
  },
  {
   "cell_type": "code",
   "execution_count": 4,
   "metadata": {},
   "outputs": [
    {
     "data": {
      "application/vnd.jupyter.widget-view+json": {
       "model_id": "98398870a7e2427dadc2fdfba3050c2c",
       "version_major": 2,
       "version_minor": 0
      },
      "text/plain": [
       "HBox(children=(IntProgress(value=0, max=132), HTML(value='')))"
      ]
     },
     "metadata": {},
     "output_type": "display_data"
    },
    {
     "name": "stderr",
     "output_type": "stream",
     "text": [
      "/dls_sw/apps/python/anaconda/1.7.0/64/envs/python3/lib/python3.6/site-packages/scipy/fftpack/basic.py:160: FutureWarning: Using a non-tuple sequence for multidimensional indexing is deprecated; use `arr[tuple(seq)]` instead of `arr[seq]`. In the future this will be interpreted as an array index, `arr[np.array(seq)]`, which will result either in an error or a different result.\n",
      "  z[index] = x\n"
     ]
    },
    {
     "name": "stdout",
     "output_type": "stream",
     "text": [
      "\n"
     ]
    },
    {
     "data": {
      "application/vnd.jupyter.widget-view+json": {
       "model_id": "770d4830149f4a58b0ca533ac564fe81",
       "version_major": 2,
       "version_minor": 0
      },
      "text/plain": [
       "HBox(children=(IntProgress(value=0, max=151), HTML(value='')))"
      ]
     },
     "metadata": {},
     "output_type": "display_data"
    },
    {
     "name": "stdout",
     "output_type": "stream",
     "text": [
      "\n"
     ]
    },
    {
     "data": {
      "application/vnd.jupyter.widget-view+json": {
       "model_id": "51e7d10cbd0d47c4b97bbea79ef9c60f",
       "version_major": 2,
       "version_minor": 0
      },
      "text/plain": [
       "HBox(children=(IntProgress(value=0, max=11), HTML(value='')))"
      ]
     },
     "metadata": {},
     "output_type": "display_data"
    },
    {
     "name": "stdout",
     "output_type": "stream",
     "text": [
      "\n"
     ]
    },
    {
     "data": {
      "application/vnd.jupyter.widget-view+json": {
       "model_id": "d4c94d735b004b62aa3a02e82e18df0b",
       "version_major": 2,
       "version_minor": 0
      },
      "text/plain": [
       "HBox(children=(IntProgress(value=0, max=20), HTML(value='')))"
      ]
     },
     "metadata": {},
     "output_type": "display_data"
    },
    {
     "name": "stdout",
     "output_type": "stream",
     "text": [
      "\n"
     ]
    },
    {
     "data": {
      "application/vnd.jupyter.widget-view+json": {
       "model_id": "714f71e8dbb74a2fae18d50f98edb526",
       "version_major": 2,
       "version_minor": 0
      },
      "text/plain": [
       "HBox(children=(IntProgress(value=0, max=20), HTML(value='')))"
      ]
     },
     "metadata": {},
     "output_type": "display_data"
    },
    {
     "name": "stdout",
     "output_type": "stream",
     "text": [
      "\n"
     ]
    },
    {
     "data": {
      "application/vnd.jupyter.widget-view+json": {
       "model_id": "a6abe1061a1847aabbe1a5887dea4467",
       "version_major": 2,
       "version_minor": 0
      },
      "text/plain": [
       "HBox(children=(IntProgress(value=0, max=3), HTML(value='')))"
      ]
     },
     "metadata": {},
     "output_type": "display_data"
    },
    {
     "name": "stdout",
     "output_type": "stream",
     "text": [
      "\n"
     ]
    }
   ],
   "source": [
    "shifts_1 = signal_1.estimate_shift2D(reference='current', sobel=True, medfilter=True, hanning=True, sub_pixel_factor=50)\n",
    "shifts_2 = signal_2.estimate_shift2D(reference='current', sobel=True, medfilter=True, hanning=True, sub_pixel_factor=50)\n",
    "shifts_3 = signal_3.estimate_shift2D(reference='current', sobel=True, medfilter=True, hanning=True, sub_pixel_factor=50)\n",
    "shifts_4 = signal_4.estimate_shift2D(reference='current', sobel=True, medfilter=True, hanning=True, sub_pixel_factor=50)\n",
    "shifts_5 = signal_5.estimate_shift2D(reference='current', sobel=True, medfilter=True, hanning=True, sub_pixel_factor=50)\n",
    "shifts_A = signal_A.estimate_shift2D(reference='current', sobel=True, medfilter=True, hanning=True, sub_pixel_factor=50)"
   ]
  },
  {
   "cell_type": "markdown",
   "metadata": {},
   "source": [
    "#### Correct for estimated shifts"
   ]
  },
  {
   "cell_type": "code",
   "execution_count": 5,
   "metadata": {},
   "outputs": [],
   "source": [
    "signal_1_shifted = ipm.correct_shifts_vh(signal_1, shifts_1)\n",
    "signal_2_shifted = ipm.correct_shifts_vh(signal_2, shifts_2)\n",
    "signal_3_shifted = ipm.correct_shifts_vh(signal_3, shifts_3)\n",
    "signal_4_shifted = ipm.correct_shifts_vh(signal_4, shifts_4)\n",
    "signal_5_shifted = ipm.correct_shifts_vh(signal_5, shifts_5)\n",
    "signal_A_shifted = ipm.correct_shifts_vh(signal_A, shifts_A)"
   ]
  },
  {
   "cell_type": "markdown",
   "metadata": {},
   "source": [
    "#### Display original and shifted signals"
   ]
  },
  {
   "cell_type": "code",
   "execution_count": 6,
   "metadata": {},
   "outputs": [],
   "source": [
    "%matplotlib qt\n",
    "hs.plot.plot_signals([signal_1, signal_1_shifted])"
   ]
  },
  {
   "cell_type": "code",
   "execution_count": 9,
   "metadata": {},
   "outputs": [],
   "source": [
    "%matplotlib qt\n",
    "hs.plot.plot_signals([signal_2, signal_2_shifted])"
   ]
  },
  {
   "cell_type": "code",
   "execution_count": null,
   "metadata": {},
   "outputs": [],
   "source": [
    "%matplotlib qt\n",
    "hs.plot.plot_signals([signal_3, signal_3_shifted])"
   ]
  },
  {
   "cell_type": "code",
   "execution_count": 8,
   "metadata": {},
   "outputs": [],
   "source": [
    "%matplotlib qt\n",
    "hs.plot.plot_signals([signal_4, signal_4_shifted])"
   ]
  },
  {
   "cell_type": "code",
   "execution_count": null,
   "metadata": {},
   "outputs": [],
   "source": [
    "%matplotlib qt\n",
    "hs.plot.plot_signals([signal_5, signal_5_shifted])"
   ]
  },
  {
   "cell_type": "code",
   "execution_count": 7,
   "metadata": {},
   "outputs": [],
   "source": [
    "%matplotlib qt\n",
    "hs.plot.plot_signals([signal_A, signal_A_shifted])"
   ]
  },
  {
   "cell_type": "markdown",
   "metadata": {},
   "source": [
    "#### `ipm.estimate_shift_relative_to_most_representative_image(signal_in: hs.signals.Signal2D, exponent=1, sub_pixel_factor=50)`"
   ]
  },
  {
   "cell_type": "markdown",
   "metadata": {},
   "source": [
    "#### Estimate shifts\n",
    "\n",
    "The \"most representative\" image is determined using `ipm.highest_mutual_information_index`."
   ]
  },
  {
   "cell_type": "code",
   "execution_count": 8,
   "metadata": {},
   "outputs": [
    {
     "data": {
      "application/vnd.jupyter.widget-view+json": {
       "model_id": "33d35e3762c340cd8940f4531e3d96d8",
       "version_major": 2,
       "version_minor": 0
      },
      "text/plain": [
       "HBox(children=(IntProgress(value=0, max=33), HTML(value='')))"
      ]
     },
     "metadata": {},
     "output_type": "display_data"
    },
    {
     "name": "stdout",
     "output_type": "stream",
     "text": [
      "\n"
     ]
    },
    {
     "data": {
      "application/vnd.jupyter.widget-view+json": {
       "model_id": "e250ed9f5264403fbf467fee9b753b1c",
       "version_major": 2,
       "version_minor": 0
      },
      "text/plain": [
       "HBox(children=(IntProgress(value=0), HTML(value='')))"
      ]
     },
     "metadata": {},
     "output_type": "display_data"
    },
    {
     "name": "stdout",
     "output_type": "stream",
     "text": [
      "\n"
     ]
    },
    {
     "data": {
      "application/vnd.jupyter.widget-view+json": {
       "model_id": "582df3a7bc7248a18597d6665b9a828e",
       "version_major": 2,
       "version_minor": 0
      },
      "text/plain": [
       "HBox(children=(IntProgress(value=0, max=66), HTML(value='')))"
      ]
     },
     "metadata": {},
     "output_type": "display_data"
    },
    {
     "name": "stdout",
     "output_type": "stream",
     "text": [
      "\n"
     ]
    },
    {
     "data": {
      "application/vnd.jupyter.widget-view+json": {
       "model_id": "9a21d86fcdc1462594060bf58ed5f371",
       "version_major": 2,
       "version_minor": 0
      },
      "text/plain": [
       "HBox(children=(IntProgress(value=0, max=86), HTML(value='')))"
      ]
     },
     "metadata": {},
     "output_type": "display_data"
    },
    {
     "name": "stdout",
     "output_type": "stream",
     "text": [
      "\n"
     ]
    },
    {
     "data": {
      "application/vnd.jupyter.widget-view+json": {
       "model_id": "726827409e614d6089a4d28f9b64dd46",
       "version_major": 2,
       "version_minor": 0
      },
      "text/plain": [
       "HBox(children=(IntProgress(value=0, max=7), HTML(value='')))"
      ]
     },
     "metadata": {},
     "output_type": "display_data"
    },
    {
     "name": "stdout",
     "output_type": "stream",
     "text": [
      "\n"
     ]
    },
    {
     "data": {
      "application/vnd.jupyter.widget-view+json": {
       "model_id": "35d80ea993404d86a14c89c7ccd8a4a4",
       "version_major": 2,
       "version_minor": 0
      },
      "text/plain": [
       "HBox(children=(IntProgress(value=0, max=5), HTML(value='')))"
      ]
     },
     "metadata": {},
     "output_type": "display_data"
    },
    {
     "name": "stdout",
     "output_type": "stream",
     "text": [
      "\n"
     ]
    },
    {
     "data": {
      "application/vnd.jupyter.widget-view+json": {
       "model_id": "d6a653c3a2734b75aaa6eb7a354bf0be",
       "version_major": 2,
       "version_minor": 0
      },
      "text/plain": [
       "HBox(children=(IntProgress(value=0, max=18), HTML(value='')))"
      ]
     },
     "metadata": {},
     "output_type": "display_data"
    },
    {
     "name": "stdout",
     "output_type": "stream",
     "text": [
      "\n"
     ]
    },
    {
     "data": {
      "application/vnd.jupyter.widget-view+json": {
       "model_id": "115616bb46804f5bb26e54820c1e219c",
       "version_major": 2,
       "version_minor": 0
      },
      "text/plain": [
       "HBox(children=(IntProgress(value=0, max=3), HTML(value='')))"
      ]
     },
     "metadata": {},
     "output_type": "display_data"
    },
    {
     "name": "stdout",
     "output_type": "stream",
     "text": [
      "\n"
     ]
    },
    {
     "data": {
      "application/vnd.jupyter.widget-view+json": {
       "model_id": "aeaa1bee76ea46eeb41148b5f8197f4e",
       "version_major": 2,
       "version_minor": 0
      },
      "text/plain": [
       "HBox(children=(IntProgress(value=0, max=8), HTML(value='')))"
      ]
     },
     "metadata": {},
     "output_type": "display_data"
    },
    {
     "name": "stdout",
     "output_type": "stream",
     "text": [
      "\n"
     ]
    },
    {
     "data": {
      "application/vnd.jupyter.widget-view+json": {
       "model_id": "6b1d917aaba0470bbdaa08853b9b6609",
       "version_major": 2,
       "version_minor": 0
      },
      "text/plain": [
       "HBox(children=(IntProgress(value=0, max=13), HTML(value='')))"
      ]
     },
     "metadata": {},
     "output_type": "display_data"
    },
    {
     "name": "stdout",
     "output_type": "stream",
     "text": [
      "\n"
     ]
    },
    {
     "data": {
      "application/vnd.jupyter.widget-view+json": {
       "model_id": "633a543ab10441f585f04273e748f01d",
       "version_major": 2,
       "version_minor": 0
      },
      "text/plain": [
       "HBox(children=(IntProgress(value=0, max=1), HTML(value='')))"
      ]
     },
     "metadata": {},
     "output_type": "display_data"
    },
    {
     "name": "stdout",
     "output_type": "stream",
     "text": [
      "\n"
     ]
    },
    {
     "data": {
      "application/vnd.jupyter.widget-view+json": {
       "model_id": "0bcbc2b320c74eff8fa1eeb77d15e6e6",
       "version_major": 2,
       "version_minor": 0
      },
      "text/plain": [
       "HBox(children=(IntProgress(value=0, max=3), HTML(value='')))"
      ]
     },
     "metadata": {},
     "output_type": "display_data"
    },
    {
     "name": "stdout",
     "output_type": "stream",
     "text": [
      "\n"
     ]
    }
   ],
   "source": [
    "shifts_1_v2 = ipm.estimate_shift_relative_to_most_representative_image(signal_1)\n",
    "shifts_2_v2 = ipm.estimate_shift_relative_to_most_representative_image(signal_2)\n",
    "shifts_3_v2 = ipm.estimate_shift_relative_to_most_representative_image(signal_3)\n",
    "shifts_4_v2 = ipm.estimate_shift_relative_to_most_representative_image(signal_4)\n",
    "shifts_5_v2 = ipm.estimate_shift_relative_to_most_representative_image(signal_5)\n",
    "shifts_A_v2 = ipm.estimate_shift_relative_to_most_representative_image(signal_A)"
   ]
  },
  {
   "cell_type": "markdown",
   "metadata": {},
   "source": [
    "#### Correct for estimated shifts"
   ]
  },
  {
   "cell_type": "code",
   "execution_count": 9,
   "metadata": {},
   "outputs": [],
   "source": [
    "signal_1_shifted_v2 = ipm.correct_shifts_vh(signal_1, shifts_1_v2)\n",
    "signal_2_shifted_v2 = ipm.correct_shifts_vh(signal_2, shifts_2_v2)\n",
    "signal_3_shifted_v2 = ipm.correct_shifts_vh(signal_3, shifts_3_v2)\n",
    "signal_4_shifted_v2 = ipm.correct_shifts_vh(signal_4, shifts_4_v2)\n",
    "signal_5_shifted_v2 = ipm.correct_shifts_vh(signal_5, shifts_5_v2)\n",
    "signal_A_shifted_v2 = ipm.correct_shifts_vh(signal_A, shifts_A_v2)"
   ]
  },
  {
   "cell_type": "markdown",
   "metadata": {},
   "source": [
    "#### Display original and shifted signals"
   ]
  },
  {
   "cell_type": "code",
   "execution_count": 10,
   "metadata": {},
   "outputs": [],
   "source": [
    "%matplotlib qt\n",
    "hs.plot.plot_signals([signal_1, signal_1_shifted_v2])"
   ]
  },
  {
   "cell_type": "code",
   "execution_count": 11,
   "metadata": {},
   "outputs": [],
   "source": [
    "%matplotlib qt\n",
    "hs.plot.plot_signals([signal_A, signal_A_shifted_v2])"
   ]
  },
  {
   "cell_type": "markdown",
   "metadata": {},
   "source": [
    "### Affine registration"
   ]
  },
  {
   "cell_type": "markdown",
   "metadata": {},
   "source": [
    "#### `scale(arr_in: np.array, scale_factor_x=1.0, scale_factor_y=1.0)`"
   ]
  },
  {
   "cell_type": "code",
   "execution_count": 63,
   "metadata": {},
   "outputs": [],
   "source": [
    "arr_A_scaled = ipm.scale(arr_A, 0.5, 0.8)"
   ]
  },
  {
   "cell_type": "code",
   "execution_count": 5,
   "metadata": {},
   "outputs": [
    {
     "data": {
      "text/plain": [
       "<matplotlib.image.AxesImage at 0x7fbe6da90da0>"
      ]
     },
     "execution_count": 5,
     "metadata": {},
     "output_type": "execute_result"
    },
    {
     "data": {
      "image/png": "[encoded data removed]",
      "text/plain": [
       "<Figure size 348.632x288 with 1 Axes>"
      ]
     },
     "metadata": {},
     "output_type": "display_data"
    }
   ],
   "source": [
    "plt.matshow(arr_A_scaled)"
   ]
  },
  {
   "cell_type": "code",
   "execution_count": 6,
   "metadata": {},
   "outputs": [
    {
     "data": {
      "text/plain": [
       "array([0.19050343, 0.19050343, 0.19050343, 0.19050343, 0.19050343,\n",
       "       0.19050343, 0.19050343, 0.19050343, 0.19050343, 0.19050343,\n",
       "       0.        , 0.        , 0.        , 0.        , 0.        ,\n",
       "       0.        , 0.        , 0.        , 0.        , 0.        ,\n",
       "       1.        , 1.        , 1.        , 0.        , 0.        ,\n",
       "       0.        , 0.        , 0.        , 0.        , 0.        ,\n",
       "       0.        , 0.        , 0.        , 0.19050343, 0.19050343,\n",
       "       0.19050343, 0.19050343, 0.19050343, 0.19050343, 0.19050343,\n",
       "       0.19050343, 0.19050343, 0.19050343, 0.19050343, 0.19050343,\n",
       "       0.19050343])"
      ]
     },
     "execution_count": 6,
     "metadata": {},
     "output_type": "execute_result"
    }
   ],
   "source": [
    "arr_A_scaled[10]"
   ]
  },
  {
   "cell_type": "code",
   "execution_count": 9,
   "metadata": {},
   "outputs": [],
   "source": [
    "data_1_0_scaled = ipm.scale(signal_1.data[0], 0.5, 0.8)"
   ]
  },
  {
   "cell_type": "code",
   "execution_count": 10,
   "metadata": {},
   "outputs": [
    {
     "data": {
      "text/plain": [
       "<matplotlib.image.AxesImage at 0x7fbe6c9b0eb8>"
      ]
     },
     "execution_count": 10,
     "metadata": {},
     "output_type": "execute_result"
    },
    {
     "data": {
      "image/png": "[encoded data removed]",
      "text/plain": [
       "<Figure size 348.632x288 with 1 Axes>"
      ]
     },
     "metadata": {},
     "output_type": "display_data"
    }
   ],
   "source": [
    "plt.matshow(data_1_0_scaled)"
   ]
  },
  {
   "cell_type": "markdown",
   "metadata": {},
   "source": [
    "#### `optimise_scale(arr_moving: np.array, arr_ref: np.array, initial_guess_x=1.0, initial_guess_y=1.0)`"
   ]
  },
  {
   "cell_type": "code",
   "execution_count": 64,
   "metadata": {},
   "outputs": [],
   "source": [
    "scale_optimisation_result = ipm.optimise_scale(arr_A, arr_A_scaled)"
   ]
  },
  {
   "cell_type": "code",
   "execution_count": 12,
   "metadata": {},
   "outputs": [
    {
     "data": {
      "text/plain": [
       "array([0.50048838, 0.80148497])"
      ]
     },
     "execution_count": 12,
     "metadata": {},
     "output_type": "execute_result"
    }
   ],
   "source": [
    "scale_optimisation_result.x"
   ]
  },
  {
   "cell_type": "code",
   "execution_count": 65,
   "metadata": {},
   "outputs": [],
   "source": [
    "scale_x = scale_optimisation_result.x[0]\n",
    "scale_y = scale_optimisation_result.x[1]\n",
    "arr_A_scaled_2 = ipm.scale(arr_A, scale_x, scale_y)"
   ]
  },
  {
   "cell_type": "code",
   "execution_count": 14,
   "metadata": {},
   "outputs": [
    {
     "data": {
      "text/plain": [
       "<matplotlib.image.AxesImage at 0x7fbe6d195198>"
      ]
     },
     "execution_count": 14,
     "metadata": {},
     "output_type": "execute_result"
    },
    {
     "data": {
      "image/png": "[encoded data removed]",
      "text/plain": [
       "<Figure size 348.632x288 with 1 Axes>"
      ]
     },
     "metadata": {},
     "output_type": "display_data"
    }
   ],
   "source": [
    "plt.matshow(arr_A_scaled_2)"
   ]
  },
  {
   "cell_type": "markdown",
   "metadata": {},
   "source": [
    "#### Rigid registration + `optimise_scale`"
   ]
  },
  {
   "cell_type": "code",
   "execution_count": 66,
   "metadata": {},
   "outputs": [
    {
     "data": {
      "application/vnd.jupyter.widget-view+json": {
       "model_id": "1d82b3586a6f4e1f8852a6ed9c90c8e6",
       "version_major": 2,
       "version_minor": 0
      },
      "text/plain": [
       "HBox(children=(IntProgress(value=0, max=67), HTML(value='')))"
      ]
     },
     "metadata": {},
     "output_type": "display_data"
    },
    {
     "name": "stderr",
     "output_type": "stream",
     "text": [
      "/dls_sw/apps/python/anaconda/1.7.0/64/envs/python3/lib/python3.6/site-packages/scipy/fftpack/basic.py:160: FutureWarning: Using a non-tuple sequence for multidimensional indexing is deprecated; use `arr[tuple(seq)]` instead of `arr[seq]`. In the future this will be interpreted as an array index, `arr[np.array(seq)]`, which will result either in an error or a different result.\n",
      "  z[index] = x\n"
     ]
    },
    {
     "name": "stdout",
     "output_type": "stream",
     "text": [
      "\n"
     ]
    },
    {
     "data": {
      "application/vnd.jupyter.widget-view+json": {
       "model_id": "051918b4de044659b9193e8b10a9b1a5",
       "version_major": 2,
       "version_minor": 0
      },
      "text/plain": [
       "HBox(children=(IntProgress(value=0, max=85), HTML(value='')))"
      ]
     },
     "metadata": {},
     "output_type": "display_data"
    },
    {
     "name": "stdout",
     "output_type": "stream",
     "text": [
      "\n"
     ]
    }
   ],
   "source": [
    "shifts_2_v2 = ipm.estimate_shift_relative_to_most_representative_image(signal_2)\n",
    "signal_2_shifted_v2 = hs.signals.Signal2D(np.empty_like(signal_2.data))\n",
    "for t in range(signal_2.data.shape[0]):\n",
    "    vfield = np.array([np.ones_like(signal_2.data[t]) * -shifts_2_v2[t][0], np.ones_like(signal_2.data[t]) * -shifts_2_v2[t][1]])\n",
    "    signal_2_shifted_v2.data[t] = ipm.apply_displacement_field_sitk(vfield, signal_2.data[t])\n",
    "max_mi_index = ipm.highest_mutual_information_index(signal_2_shifted_v2)\n",
    "signal_2_shifted_v2_scaled = hs.signals.Signal2D(np.empty_like(signal_2.data))\n",
    "scale_data = []\n",
    "for t in range(signal_2.data.shape[0]):\n",
    "    scale_result = ipm.optimise_scale(signal_2_shifted_v2.data[t], signal_2_shifted_v2.data[max_mi_index])\n",
    "    signal_2_shifted_v2_scaled.data[t] = ipm.scale(signal_2_shifted_v2.data[t], scale_result.x[0], scale_result.x[1])\n",
    "    scale_data.append(scale_result.x)"
   ]
  },
  {
   "cell_type": "code",
   "execution_count": 5,
   "metadata": {},
   "outputs": [],
   "source": [
    "x_scales = np.array(scale_data).T[0]\n",
    "y_scales = np.array(scale_data).T[1]"
   ]
  },
  {
   "cell_type": "code",
   "execution_count": 10,
   "metadata": {},
   "outputs": [
    {
     "data": {
      "text/plain": [
       "[<matplotlib.lines.Line2D at 0x7fad99915c88>]"
      ]
     },
     "execution_count": 10,
     "metadata": {},
     "output_type": "execute_result"
    },
    {
     "data": {
      "image/png": "[encoded data removed]",
      "text/plain": [
       "<Figure size 432x288 with 1 Axes>"
      ]
     },
     "metadata": {},
     "output_type": "display_data"
    }
   ],
   "source": [
    "plt.plot(x_scales, 'x')"
   ]
  },
  {
   "cell_type": "code",
   "execution_count": 11,
   "metadata": {},
   "outputs": [
    {
     "data": {
      "text/plain": [
       "[<matplotlib.lines.Line2D at 0x7fad998fafd0>]"
      ]
     },
     "execution_count": 11,
     "metadata": {},
     "output_type": "execute_result"
    },
    {
     "data": {
      "image/png": "[encoded data removed]",
      "text/plain": [
       "<Figure size 432x288 with 1 Axes>"
      ]
     },
     "metadata": {},
     "output_type": "display_data"
    }
   ],
   "source": [
    "plt.plot(y_scales, 'x')"
   ]
  },
  {
   "cell_type": "code",
   "execution_count": 55,
   "metadata": {},
   "outputs": [],
   "source": [
    "%matplotlib qt\n",
    "hs.plot.plot_signals([signal_2, signal_2_shifted_v2_scaled])"
   ]
  },
  {
   "cell_type": "code",
   "execution_count": 67,
   "metadata": {},
   "outputs": [],
   "source": [
    "signal_2_shifted_v2_scaled_nonrigid = hs.signals.Signal2D(ipm.nonrigid(signal_2_shifted_v2_scaled.data, demons_it = 20, filter_size = 5.0, max_it = 3, default_pixel_value = signal_2_shifted_v2_scaled.data[0].mean()))"
   ]
  },
  {
   "cell_type": "markdown",
   "metadata": {},
   "source": [
    "#### Compare unmodified, shifted, shifted & scaled, shifted & scaled & nonrigid registered"
   ]
  },
  {
   "cell_type": "code",
   "execution_count": 68,
   "metadata": {},
   "outputs": [],
   "source": [
    "%matplotlib qt\n",
    "hs.plot.plot_signals([signal_2, signal_2_shifted_v2, signal_2_shifted_v2_scaled, signal_2_shifted_v2_scaled_nonrigid])"
   ]
  },
  {
   "cell_type": "markdown",
   "metadata": {},
   "source": [
    "#### `rotate(arr_in: np.array, rotate_radians=0.0)`"
   ]
  },
  {
   "cell_type": "code",
   "execution_count": 4,
   "metadata": {},
   "outputs": [],
   "source": [
    "arr_A_rotated = ipm.rotate(arr_A, math.pi/6)"
   ]
  },
  {
   "cell_type": "code",
   "execution_count": 5,
   "metadata": {},
   "outputs": [
    {
     "data": {
      "text/plain": [
       "<matplotlib.image.AxesImage at 0x7f1b01355d30>"
      ]
     },
     "execution_count": 5,
     "metadata": {},
     "output_type": "execute_result"
    },
    {
     "data": {
      "image/png": "[encoded data removed]",
      "text/plain": [
       "<Figure size 348.632x288 with 1 Axes>"
      ]
     },
     "metadata": {},
     "output_type": "display_data"
    }
   ],
   "source": [
    "plt.matshow(arr_A_rotated)"
   ]
  },
  {
   "cell_type": "markdown",
   "metadata": {},
   "source": [
    "#### `optimise_rotation(arr_moving: np.array, arr_ref: np.array, initial_guess_radians=0.1)`"
   ]
  },
  {
   "cell_type": "code",
   "execution_count": 14,
   "metadata": {},
   "outputs": [],
   "source": [
    "rotation_optimisation_result = ipm.optimise_rotation(arr_A, arr_A_rotated)"
   ]
  },
  {
   "cell_type": "code",
   "execution_count": 15,
   "metadata": {},
   "outputs": [
    {
     "data": {
      "text/plain": [
       "array([0.52359375])"
      ]
     },
     "execution_count": 15,
     "metadata": {},
     "output_type": "execute_result"
    }
   ],
   "source": [
    "rotation_optimisation_result.x"
   ]
  },
  {
   "cell_type": "code",
   "execution_count": 16,
   "metadata": {},
   "outputs": [],
   "source": [
    "arr_A_rotated_2 = ipm.rotate(arr_A, rotation_optimisation_result.x[0])"
   ]
  },
  {
   "cell_type": "code",
   "execution_count": 17,
   "metadata": {},
   "outputs": [
    {
     "data": {
      "text/plain": [
       "<matplotlib.image.AxesImage at 0x7f1b01256320>"
      ]
     },
     "execution_count": 17,
     "metadata": {},
     "output_type": "execute_result"
    },
    {
     "data": {
      "image/png": "[encoded data removed]",
      "text/plain": [
       "<Figure size 348.632x288 with 1 Axes>"
      ]
     },
     "metadata": {},
     "output_type": "display_data"
    }
   ],
   "source": [
    "plt.matshow(arr_A_rotated_2)"
   ]
  },
  {
   "cell_type": "code",
   "execution_count": 58,
   "metadata": {},
   "outputs": [],
   "source": [
    "arr_mi = np.empty((10,2))\n",
    "max_rotate = math.pi/6\n",
    "for i in range(10):\n",
    "    arr_mi[i][0] = ipm.mutual_information(arr_A, ipm.rotate(arr_A, i*max_rotate/9))\n",
    "    arr_mi[i][1] = ipm.mutual_information(ipm.rotate(arr_A, max_rotate), ipm.rotate(arr_A, i*max_rotate/9))    "
   ]
  },
  {
   "cell_type": "code",
   "execution_count": 59,
   "metadata": {},
   "outputs": [
    {
     "data": {
      "text/plain": [
       "array([[1.        , 0.02772298],\n",
       "       [0.39143276, 0.07564718],\n",
       "       [0.24887735, 0.10688139],\n",
       "       [0.16992909, 0.15212583],\n",
       "       [0.11948464, 0.21263226],\n",
       "       [0.07781172, 0.2760689 ],\n",
       "       [0.05414335, 0.37488864],\n",
       "       [0.0468971 , 0.48411249],\n",
       "       [0.03437141, 0.63370722],\n",
       "       [0.02772298, 1.        ]])"
      ]
     },
     "execution_count": 59,
     "metadata": {},
     "output_type": "execute_result"
    }
   ],
   "source": [
    "arr_mi"
   ]
  },
  {
   "cell_type": "markdown",
   "metadata": {},
   "source": [
    "#### `affine(arr_in: np.array, rotate_radians=0.0, scale_x=1.0, scale_y=1.0, shear_x=0.0, shear_y=0.0, offset_x=0.0, offset_y=0.0)`"
   ]
  },
  {
   "cell_type": "code",
   "execution_count": 4,
   "metadata": {},
   "outputs": [],
   "source": [
    "arr_A_affine = ipm.affine(arr_A, rotate_radians=math.pi/6, scale_x=0.5, scale_y=1.1, shear_x=0.5, shear_y=0.0, offset_x=0.0, offset_y=0.0)"
   ]
  },
  {
   "cell_type": "code",
   "execution_count": 5,
   "metadata": {},
   "outputs": [
    {
     "data": {
      "text/plain": [
       "<matplotlib.image.AxesImage at 0x7f6e00083f60>"
      ]
     },
     "execution_count": 5,
     "metadata": {},
     "output_type": "execute_result"
    },
    {
     "data": {
      "image/png": "[encoded data removed]",
      "text/plain": [
       "<Figure size 348.632x288 with 1 Axes>"
      ]
     },
     "metadata": {},
     "output_type": "display_data"
    }
   ],
   "source": [
    "plt.matshow(arr_A_affine)"
   ]
  },
  {
   "cell_type": "markdown",
   "metadata": {},
   "source": [
    "#### `optimise_affine(arr_moving: np.array, arr_ref: np.array, rotate_radians=0.1, scale_x=1.0, scale_y=1.0, shear_x=0.0, shear_y=0.0, offset_x=0.0, offset_y=0.0)`"
   ]
  },
  {
   "cell_type": "code",
   "execution_count": 8,
   "metadata": {},
   "outputs": [],
   "source": [
    "import scipy"
   ]
  },
  {
   "cell_type": "code",
   "execution_count": 9,
   "metadata": {},
   "outputs": [],
   "source": [
    "def optimise_affine_v3(arr_moving: np.array, arr_ref: np.array, rotate_radians=0.1, scale_x=1.0, scale_y=1.0, shear_x=0.0, shear_y=0.0, offset_x=0.0, offset_y=0.0):\n",
    "    def inverse_mutual_information_after_transform(parameters):\n",
    "        arr_transformed = ipm.affine(arr_moving, rotate_radians=parameters[0], scale_x=parameters[1], scale_y=parameters[2], shear_x=parameters[3], shear_y=parameters[4], offset_x=parameters[5], offset_y=parameters[6])\n",
    "        return 1/ipm.mutual_information(arr_transformed, arr_ref)\n",
    "    optimisation_result = scipy.optimize.minimize(inverse_mutual_information_after_transform, [rotate_radians, scale_x, scale_y, shear_x, shear_y, offset_x, offset_y], method='Nelder-Mead')\n",
    "    #optimisation_result = scipy.optimize.basinhopping(inverse_mutual_information_after_transform, [rotate_radians, scale_x, scale_y, shear_x, shear_y, offset_x, offset_y], niter=10000, niter_success=10, T=10.0)\n",
    "    max_scale = 5\n",
    "    max_translate_factor=0.2\n",
    "    #optimisation_result = scipy.optimize.differential_evolution(inverse_mutual_information_after_transform, [(-math.pi, math.pi), (-max_scale, max_scale), (-max_scale, max_scale), (-math.pi, math.pi), (-math.pi, math.pi), (-arr_moving.shape[0]*max_translate_factor, arr_moving.shape[0]*max_translate_factor), (-arr_moving.shape[1]*max_translate_factor, arr_moving.shape[1]*max_translate_factor)])\n",
    "    \n",
    "    #optimisation_result = scipy.optimize.minimize(inverse_mutual_information_after_transform, [rotate_radians, scale_x, scale_y, shear_x, shear_y, offset_x, offset_y], method='L-BFGS-B')\n",
    "    return optimisation_result\n",
    "\n",
    "def optimise_affine_v4(arr_moving: np.array, arr_ref: np.array, rotate_radians=0.1, scale_x=1.0, scale_y=1.0, shear_x=0.0, shear_y=0.0, offset_x=0.0, offset_y=0.0):\n",
    "    def difference_after_transform(parameters):\n",
    "        arr_transformed = ipm.affine(arr_moving, rotate_radians=parameters[0], scale_x=parameters[1], scale_y=parameters[2], shear_x=parameters[3], shear_y=parameters[4], offset_x=parameters[5], offset_y=parameters[6])\n",
    "        return abs(arr_transformed - arr_ref).mean()\n",
    "    optimisation_result = scipy.optimize.minimize(difference_after_transform, [rotate_radians, scale_x, scale_y, shear_x, shear_y, offset_x, offset_y], method='Nelder-Mead')\n",
    "    #optimisation_result = scipy.optimize.basinhopping(difference_after_transform, [rotate_radians, scale_x, scale_y, shear_x, shear_y, offset_x, offset_y], niter=10000, niter_success=10, T=1.0)\n",
    "    return optimisation_result"
   ]
  },
  {
   "cell_type": "code",
   "execution_count": 10,
   "metadata": {},
   "outputs": [],
   "source": [
    "#affine_optimisation_result_1 = ipm.optimise_affine(arr_A, arr_A_affine, rotate_radians=math.pi/4, offset_x=10.0, offset_y=10.0)\n",
    "affine_optimisation_result_1 = optimise_affine_v3(arr_A, arr_A_affine, rotate_radians=math.pi/4, offset_x=0.0, offset_y=0.0)"
   ]
  },
  {
   "cell_type": "code",
   "execution_count": 11,
   "metadata": {},
   "outputs": [
    {
     "data": {
      "text/plain": [
       "array([7.46638011e-01, 4.87387572e-01, 1.16502390e+00, 6.06404530e-04,\n",
       "       1.24668359e-04, 5.38830031e-05, 1.33391209e-03])"
      ]
     },
     "execution_count": 11,
     "metadata": {},
     "output_type": "execute_result"
    }
   ],
   "source": [
    "affine_optimisation_result_1.x"
   ]
  },
  {
   "cell_type": "code",
   "execution_count": 12,
   "metadata": {},
   "outputs": [],
   "source": [
    "arr_A_affine_2 = ipm.affine(arr_A, rotate_radians=affine_optimisation_result_1.x[0], scale_x=affine_optimisation_result_1.x[1], scale_y=affine_optimisation_result_1.x[2], shear_x=affine_optimisation_result_1.x[3], shear_y=affine_optimisation_result_1.x[4], offset_x=affine_optimisation_result_1.x[5], offset_y=affine_optimisation_result_1.x[6])"
   ]
  },
  {
   "cell_type": "code",
   "execution_count": 13,
   "metadata": {},
   "outputs": [
    {
     "data": {
      "text/plain": [
       "[0.7659035566969455,\n",
       " 0.04330696987023428,\n",
       " 0.04260515038296682,\n",
       " 1.0000000000000002]"
      ]
     },
     "execution_count": 13,
     "metadata": {},
     "output_type": "execute_result"
    }
   ],
   "source": [
    "[ipm.mutual_information(arr_A_affine, arr_A_affine_2), ipm.mutual_information(arr_A, arr_A_affine_2), ipm.mutual_information(arr_A_affine, arr_A), ipm.mutual_information(arr_A_affine, arr_A_affine)]"
   ]
  },
  {
   "cell_type": "code",
   "execution_count": 15,
   "metadata": {},
   "outputs": [
    {
     "data": {
      "text/plain": [
       "<matplotlib.image.AxesImage at 0x7f6dfffda6a0>"
      ]
     },
     "execution_count": 15,
     "metadata": {},
     "output_type": "execute_result"
    },
    {
     "data": {
      "image/png": "[encoded data removed]",
      "text/plain": [
       "<Figure size 697.263x288 with 1 Axes>"
      ]
     },
     "metadata": {},
     "output_type": "display_data"
    }
   ],
   "source": [
    "plt.matshow(np.hstack((arr_A_affine, arr_A_affine_2)))"
   ]
  },
  {
   "cell_type": "markdown",
   "metadata": {},
   "source": [
    "#### `optimise_affine_v2(arr_moving: np.array, arr_ref: np.array, scale_x=1.0, scale_y=1.0, shear_radians=0.0, rotate_radians=0.0, offset_x=0.0, offset_y=0.0)`"
   ]
  },
  {
   "cell_type": "code",
   "execution_count": 6,
   "metadata": {},
   "outputs": [],
   "source": [
    "#arr_A_affine_v2 = ipm.affine(arr_A, rotate_radians=math.pi/6, scale_x=0.5, scale_y=1.1, shear_x=0.0, shear_y=0.0, offset_x=0.0, offset_y=0.0)\n",
    "scale_x=0.5\n",
    "scale_y=1.1\n",
    "shear_radians=math.pi/4\n",
    "rotate_radians=-math.pi/5\n",
    "#offset_x=24.0\n",
    "#offset_y=-5.0\n",
    "offset_x = 5.9\n",
    "offset_y = 1.4\n",
    "arr_A_affine_v2 = ipm.transform_using_values(arr_A, [scale_x, scale_y, shear_radians, rotate_radians, offset_x, offset_y])\n",
    "#[a0, a1, a2, b0, b1, b2] = [scale_x * math.cos(rotate_radians), -scale_y * math.sin(rotate_radians + shear_radians), offset_x, scale_x * math.sin(rotate_radians), scale_y * math.cos(rotate_radians + shear_radians), offset_y]\n",
    "#arr_A_affine_v2 = skimage.transform.warp(arr_A, skimage.transform.AffineTransform(matrix=np.array([[a0, a1, a2], [b0, b1, b2], [0, 0, 1]])).inverse)"
   ]
  },
  {
   "cell_type": "code",
   "execution_count": 7,
   "metadata": {},
   "outputs": [
    {
     "data": {
      "text/plain": [
       "<matplotlib.image.AxesImage at 0x7f65891c6eb8>"
      ]
     },
     "execution_count": 7,
     "metadata": {},
     "output_type": "execute_result"
    }
   ],
   "source": [
    "plt.matshow(arr_A_affine_v2)"
   ]
  },
  {
   "cell_type": "code",
   "execution_count": 15,
   "metadata": {},
   "outputs": [],
   "source": [
    "import scipy"
   ]
  },
  {
   "cell_type": "code",
   "execution_count": 19,
   "metadata": {},
   "outputs": [],
   "source": [
    "def optimise_affine_v2(arr_moving: np.array, arr_ref: np.array, scale_x=1.0, scale_y=1.0, shear_radians=0.0, rotate_radians=0.0, offset_x=0.0, offset_y=0.0):\n",
    "    def inverse_mutual_information_after_transform(parameters):\n",
    "        transform = skimage.transform.AffineTransform(matrix=np.array([[parameters[0], parameters[1], parameters[2]], [parameters[3], parameters[4], parameters[5]], [0, 0, 1]]))\n",
    "        arr_transformed = skimage.transform.warp(arr_moving, transform.inverse)\n",
    "        return 1/ipm.mutual_information(arr_transformed, arr_ref)\n",
    "    max_scale = 5\n",
    "    max_translate_factor = 0.2\n",
    "    # min: -max_scale, max: max_scale\n",
    "    a0 = scale_x * math.cos(rotate_radians)\n",
    "    # min: -max_scale, max: max_scale\n",
    "    a1 = -scale_y * math.sin(rotate_radians + shear_radians)\n",
    "    # min: -arr_moving.shape[0], max: arr_moving.shape[0]\n",
    "    a2 = offset_x\n",
    "    # min: -max_scale, max: max_scale\n",
    "    b0 = scale_x * math.sin(rotate_radians)\n",
    "    # min: -max_scale, max: max_scale\n",
    "    b1 = scale_y * math.cos(rotate_radians + shear_radians)\n",
    "    # min: -arr_moving.shape[1], max: arr_moving.shape[1]\n",
    "    b2 = offset_y\n",
    "    optimisation_result = scipy.optimize.minimize(inverse_mutual_information_after_transform, [a0, a1, a2, b0, b1, b2], method='Nelder-Mead')\n",
    "    #optimisation_result = scipy.optimize.basinhopping(inverse_mutual_information_after_transform, [a0, a1, a2, b0, b1, b2], niter=10000, niter_success=10, T=10.0)\n",
    "    #optimisation_result = scipy.optimize.differential_evolution(inverse_mutual_information_after_transform, [(-max_scale, max_scale), (-max_scale, max_scale), (-arr_moving.shape[0]*max_translate_factor, arr_moving.shape[0]*max_translate_factor), (-max_scale, max_scale), (-max_scale, max_scale), (-arr_moving.shape[1]*max_translate_factor, arr_moving.shape[1]*max_translate_factor)])\n",
    "    return optimisation_result\n",
    "\n",
    "def optimise_affine_v5(arr_moving: np.array, arr_ref: np.array, scale_x=1.0, scale_y=1.0, shear_radians=0.0, rotate_radians=0.0, offset_x=0.0, offset_y=0.0):\n",
    "    def inverse_mutual_information_after_transform(parameters):\n",
    "        arr_transformed = ipm.transform_using_values(arr_moving, parameters)\n",
    "        return 1/ipm.mutual_information(arr_transformed, arr_ref)\n",
    "    #optimisation_result = scipy.optimize.minimize(inverse_mutual_information_after_transform, [scale_x, scale_y, shear_radians, rotate_radians, offset_x, offset_y], method='Nelder-Mead')\n",
    "    #optimisation_result = scipy.optimize.basinhopping(inverse_mutual_information_after_transform, [scale_x, scale_y, shear_radians, rotate_radians, offset_x, offset_y], niter=10000, niter_success=10, T=0.1)\n",
    "    max_scale = 5\n",
    "    max_translate_factor=0.2\n",
    "    # differential_evolution works well for the parameter values [0.5, 1.1, 0.0, math.pi/6, 3.0, -5.0].\n",
    "    optimisation_result = scipy.optimize.differential_evolution(inverse_mutual_information_after_transform, [(1/max_scale, max_scale), (1/max_scale, max_scale), (-math.pi/3, math.pi/3), (-math.pi, math.pi), (-arr_moving.shape[0]*max_translate_factor, arr_moving.shape[0]*max_translate_factor), (-arr_moving.shape[1]*max_translate_factor, arr_moving.shape[1]*max_translate_factor)])\n",
    "    #optimisation_result = scipy.optimize.minimize(inverse_mutual_information_after_transform, [scale_x, scale_y, shear_radians, rotate_radians, offset_x, offset_y], method='L-BFGS-B')\n",
    "    return optimisation_result"
   ]
  },
  {
   "cell_type": "code",
   "execution_count": 13,
   "metadata": {},
   "outputs": [],
   "source": [
    "def optimise_affine_by_differential_evolution(arr_moving: np.array, arr_ref: np.array, bounds=None, maxiter=1000):\n",
    "    def inverse_mutual_information_after_transform(parameters):\n",
    "        return 1/ipm.mutual_information(ipm.transform_using_values(arr_moving, parameters), arr_ref)\n",
    "    if bounds is None:\n",
    "        max_scale_factor = 2\n",
    "        max_translate_factor = 0.2\n",
    "        bounds = [(1/max_scale_factor, max_scale_factor), (1/max_scale_factor, max_scale_factor), (-math.pi/3, math.pi/3), (-math.pi/3, math.pi/3), (-arr_moving.shape[0]*max_translate_factor, arr_moving.shape[0]*max_translate_factor), (-arr_moving.shape[1]*max_translate_factor, arr_moving.shape[1]*max_translate_factor)]\n",
    "    assert bounds[0][0] >= 0\n",
    "    #assert bounds[0][1] >= max(bounds[0][0], 1)\n",
    "    assert bounds[0][1] >= bounds[0][0]\n",
    "    assert bounds[1][0] >= 0\n",
    "    #assert bounds[1][1] >= max(bounds[1][0], 1)\n",
    "    assert bounds[1][1] >= bounds[1][0]\n",
    "    assert abs(bounds[2][0]) < math.pi/2\n",
    "    assert abs(bounds[2][1]) < math.pi/2 and bounds[2][1] >= bounds[2][0]\n",
    "    assert abs(bounds[3][0]) <= math.pi\n",
    "    assert abs(bounds[3][1]) <= math.pi and bounds[3][1] >= bounds[3][0]\n",
    "    assert abs(bounds[4][0]) <= arr_moving.shape[0]\n",
    "    assert abs(bounds[4][1]) <= arr_moving.shape[0] and bounds[4][1] >= bounds[4][0]\n",
    "    assert abs(bounds[5][0]) <= arr_moving.shape[1]\n",
    "    assert abs(bounds[5][1]) <= arr_moving.shape[1] and bounds[5][1] >= bounds[5][0]\n",
    "    de_result = scipy.optimize.differential_evolution(inverse_mutual_information_after_transform, bounds, maxiter=maxiter)\n",
    "    inv_mi_no_transform = inverse_mutual_information_after_transform([1, 1, 0, 0, 0, 0])\n",
    "    inv_mi = inverse_mutual_information_after_transform(de_result.x)\n",
    "    if inv_mi_no_transform <= inv_mi:\n",
    "        de_result.x = [1, 1, 0, 0, 0, 0]\n",
    "    return de_result"
   ]
  },
  {
   "cell_type": "code",
   "execution_count": 13,
   "metadata": {},
   "outputs": [],
   "source": [
    "#affine_optimisation_result_2 = optimise_affine_v5(arr_A, arr_A_affine_v2, rotate_radians=math.pi/4, shear_radians=math.pi/4, offset_x=3, offset_y=3)\n",
    "affine_optimisation_result_2 = optimise_affine_by_differential_evolution(arr_A, arr_A_affine_v2, maxiter=100)"
   ]
  },
  {
   "cell_type": "code",
   "execution_count": 14,
   "metadata": {},
   "outputs": [
    {
     "data": {
      "text/plain": [
       "[0.5, 1.1, 0.7853981633974483, -0.6283185307179586, 5.9, 1.4]"
      ]
     },
     "execution_count": 14,
     "metadata": {},
     "output_type": "execute_result"
    }
   ],
   "source": [
    "[scale_x, scale_y, shear_radians, rotate_radians, offset_x, offset_y]"
   ]
  },
  {
   "cell_type": "code",
   "execution_count": 15,
   "metadata": {},
   "outputs": [
    {
     "data": {
      "text/plain": [
       "array([ 0.50328645,  1.10166607,  0.78950081, -0.63181475,  5.89521458,\n",
       "        1.41347075])"
      ]
     },
     "execution_count": 15,
     "metadata": {},
     "output_type": "execute_result"
    }
   ],
   "source": [
    "affine_optimisation_result_2.x"
   ]
  },
  {
   "cell_type": "code",
   "execution_count": 16,
   "metadata": {},
   "outputs": [],
   "source": [
    "arr_A_affine_3 = ipm.transform_using_values(arr_A, affine_optimisation_result_2.x)"
   ]
  },
  {
   "cell_type": "code",
   "execution_count": 17,
   "metadata": {},
   "outputs": [
    {
     "data": {
      "text/plain": [
       "<matplotlib.image.AxesImage at 0x7f5e76f01ba8>"
      ]
     },
     "execution_count": 17,
     "metadata": {},
     "output_type": "execute_result"
    },
    {
     "data": {
      "image/png": "[encoded data removed]",
      "text/plain": [
       "<Figure size 697.263x288 with 1 Axes>"
      ]
     },
     "metadata": {},
     "output_type": "display_data"
    }
   ],
   "source": [
    "plt.matshow(np.hstack((arr_A_affine_3, arr_A_affine_v2)))"
   ]
  },
  {
   "cell_type": "code",
   "execution_count": 24,
   "metadata": {},
   "outputs": [],
   "source": [
    "def optimise_signal_affine(signal_in: hs.signals.Signal2D, bounds=None, maxiter=1000):\n",
    "    parameters = np.empty((signal_in.data.shape[0], 6))\n",
    "    index_ref = ipm.highest_mutual_information_index(signal_in)\n",
    "    arr_ref = signal_in.data[index_ref]\n",
    "    for t in range(signal_in.data.shape[0]):\n",
    "        parameters[t] = optimise_affine_by_differential_evolution(signal_in.data[t], arr_ref, bounds=bounds, maxiter=maxiter).x\n",
    "    return parameters\n",
    "\n",
    "def optimise_signal_affine_v2(signal_in: hs.signals.Signal2D, bounds=None, maxiter=1000):\n",
    "    parameters = np.empty((signal_in.data.shape[0], 6))\n",
    "    index_ref = ipm.highest_mutual_information_index(signal_in)\n",
    "    arr_ref = signal_in.data[index_ref]\n",
    "    \n",
    "    # data_pre: all elements up to and including index_ref, reversed\n",
    "    data_pre = signal_in.data[:index_ref+1][::-1]\n",
    "    assert data_pre.shape[0] == index_ref + 1\n",
    "    # data_post: all elements from index_ref onwards\n",
    "    data_post = signal_in.data[index_ref:]\n",
    "    assert data_post.shape[0] == signal_in.data.shape[0] - index_ref\n",
    "    \n",
    "    if bounds is None:\n",
    "        #max_scale_factor = 2\n",
    "        #max_translate_factor = 0.2\n",
    "        #bounds = [\n",
    "        #    (1/max_scale_factor, max_scale_factor), \n",
    "        #    (1/max_scale_factor, max_scale_factor), \n",
    "        #    (-math.pi/3, math.pi/3), \n",
    "        #    (-math.pi/3, math.pi/3), \n",
    "        #    (-arr_moving.shape[0]*max_translate_factor, arr_moving.shape[0]*max_translate_factor), \n",
    "        #    (-arr_moving.shape[1]*max_translate_factor, arr_moving.shape[1]*max_translate_factor)]\n",
    "        max_consecutive_scale_factor = 1.1\n",
    "        max_consecutive_shear = math.pi/36 # 5 degrees\n",
    "        max_consecutive_rotate = math.pi/36 # 5 degrees\n",
    "        max_consecutive_translate_factor = 0.05\n",
    "        bounds = [\n",
    "            (1/max_consecutive_scale_factor, max_consecutive_scale_factor),\n",
    "            (1/max_consecutive_scale_factor, max_consecutive_scale_factor),\n",
    "            (-max_consecutive_shear, max_consecutive_shear),\n",
    "            (-max_consecutive_rotate, max_consecutive_rotate),\n",
    "            (-arr_ref.shape[0]*max_consecutive_translate_factor, arr_ref.shape[0]*max_consecutive_translate_factor),\n",
    "            (-arr_ref.shape[1]*max_consecutive_translate_factor, arr_ref.shape[1]*max_consecutive_translate_factor)]\n",
    "    \n",
    "    bounds_current = bounds\n",
    "    \n",
    "    def within_bounds(bounds_min, bounds_max, value):\n",
    "        assert bounds_max >= bounds_min\n",
    "        return max(bounds_min, min(bounds_max, value))\n",
    "    \n",
    "    def adjust_bounds_to_parameters(bounds_current, parameters):\n",
    "        assert parameters[0] >= bounds_current[0][0]\n",
    "        assert parameters[0] <= bounds_current[0][1]\n",
    "        assert parameters[1] >= bounds_current[1][0]\n",
    "        assert parameters[1] <= bounds_current[1][1]\n",
    "        assert parameters[2] >= bounds_current[2][0]\n",
    "        assert parameters[2] <= bounds_current[2][1]\n",
    "        assert parameters[3] >= bounds_current[3][0]\n",
    "        assert parameters[3] <= bounds_current[3][1]\n",
    "        assert parameters[4] >= bounds_current[4][0]\n",
    "        assert parameters[4] <= bounds_current[4][1]\n",
    "        assert parameters[5] >= bounds_current[5][0]\n",
    "        assert parameters[5] <= bounds_current[5][1]\n",
    "        max_scale_factor = 2\n",
    "        max_translate_factor = 0.2\n",
    "        assert bounds_current[0][0] >= 1/max_scale_factor\n",
    "        assert bounds_current[0][0] <= max_scale_factor\n",
    "        assert bounds_current[0][1] >= 1/max_scale_factor\n",
    "        assert bounds_current[0][1] <= max_scale_factor\n",
    "        assert bounds_current[1][0] >= 1/max_scale_factor\n",
    "        assert bounds_current[1][0] <= max_scale_factor\n",
    "        assert bounds_current[1][1] >= 1/max_scale_factor\n",
    "        assert bounds_current[1][1] <= max_scale_factor\n",
    "        assert abs(bounds_current[2][0]) <= math.pi/3\n",
    "        assert abs(bounds_current[2][1]) <= math.pi/3\n",
    "        assert abs(bounds_current[3][0]) <= math.pi/3\n",
    "        assert abs(bounds_current[3][1]) <= math.pi/3\n",
    "        scale_x_min_next = within_bounds(1/max_scale_factor, max_scale_factor, parameters[0] * bounds_current[0][0])\n",
    "        scale_x_max_next = within_bounds(1/max_scale_factor, max_scale_factor, parameters[0] * bounds_current[0][1])\n",
    "        scale_y_min_next = within_bounds(1/max_scale_factor, max_scale_factor, parameters[1] * bounds_current[1][0])\n",
    "        scale_y_max_next = within_bounds(1/max_scale_factor, max_scale_factor, parameters[1] * bounds_current[1][1])\n",
    "        shear_min_next = within_bounds(-math.pi/3, math.pi/3, parameters[2] + bounds_current[2][0])\n",
    "        shear_max_next = within_bounds(-math.pi/3, math.pi/3, parameters[2] + bounds_current[2][1])\n",
    "        rotate_min_next = within_bounds(-math.pi/3, math.pi/3, parameters[3] + bounds_current[3][0])\n",
    "        rotate_max_next = within_bounds(-math.pi/3, math.pi/3, parameters[3] + bounds_current[3][1])\n",
    "        offset_x_min_next = within_bounds(-arr_ref.shape[0]*max_translate_factor, arr_ref.shape[0]*max_translate_factor, parameters[4] + bounds_current[4][0])\n",
    "        offset_x_max_next = within_bounds(-arr_ref.shape[0]*max_translate_factor, arr_ref.shape[0]*max_translate_factor, parameters[4] + bounds_current[4][1])\n",
    "        offset_y_min_next = within_bounds(-arr_ref.shape[1]*max_translate_factor, arr_ref.shape[1]*max_translate_factor, parameters[5] + bounds_current[5][0])\n",
    "        offset_y_max_next = within_bounds(-arr_ref.shape[1]*max_translate_factor, arr_ref.shape[1]*max_translate_factor, parameters[5] + bounds_current[5][1])\n",
    "        bounds_00 = min(scale_x_min_next, scale_x_max_next)\n",
    "        bounds_01 = max(scale_x_min_next, scale_x_max_next)\n",
    "        bounds_10 = min(scale_y_min_next, scale_y_max_next)\n",
    "        bounds_11 = max(scale_y_min_next, scale_y_max_next)\n",
    "        bounds_20 = min(shear_min_next, shear_max_next)\n",
    "        bounds_21 = max(shear_min_next, shear_max_next)\n",
    "        bounds_30 = min(rotate_min_next, rotate_max_next)\n",
    "        bounds_31 = max(rotate_min_next, rotate_max_next)\n",
    "        bounds_40 = min(offset_x_min_next, offset_x_max_next)\n",
    "        bounds_41 = max(offset_x_min_next, offset_x_max_next)\n",
    "        bounds_50 = min(offset_y_min_next, offset_y_max_next)\n",
    "        bounds_51 = max(offset_y_min_next, offset_y_max_next)\n",
    "        return [(bounds_00, bounds_01), (bounds_10, bounds_11), (bounds_20, bounds_21), (bounds_30, bounds_31), (bounds_40, bounds_41), (bounds_50, bounds_51)]\n",
    "            \n",
    "    for t in range(data_pre.shape[0]):\n",
    "        parameters[index_ref - t] = optimise_affine_by_differential_evolution(data_pre[t], arr_ref, bounds=bounds_current, maxiter=maxiter).x\n",
    "        assert parameters[index_ref - t][0] >= bounds_current[0][0]\n",
    "        assert parameters[index_ref - t][0] <= bounds_current[0][1]\n",
    "        assert parameters[index_ref - t][1] >= bounds_current[1][0]\n",
    "        assert parameters[index_ref - t][1] <= bounds_current[1][1]\n",
    "        assert parameters[index_ref - t][2] >= bounds_current[2][0]\n",
    "        assert parameters[index_ref - t][2] <= bounds_current[2][1]\n",
    "        assert parameters[index_ref - t][3] >= bounds_current[3][0]\n",
    "        assert parameters[index_ref - t][3] <= bounds_current[3][1]\n",
    "        assert parameters[index_ref - t][4] >= bounds_current[4][0]\n",
    "        assert parameters[index_ref - t][4] <= bounds_current[4][1]\n",
    "        assert parameters[index_ref - t][5] >= bounds_current[5][0]\n",
    "        assert parameters[index_ref - t][5] <= bounds_current[5][1]\n",
    "        bounds_current = adjust_bounds_to_parameters(bounds_current, parameters[index_ref - t])\n",
    "        \n",
    "    bounds_current = bounds\n",
    "    \n",
    "    for t in range(data_post.shape[0]):\n",
    "        parameters[index_ref + t] = optimise_affine_by_differential_evolution(data_post[t], arr_ref, bounds=bounds_current, maxiter=maxiter).x\n",
    "        bounds_current = adjust_bounds_to_parameters(bounds_current, parameters[index_ref + t])\n",
    "        \n",
    "    return parameters\n",
    "\n",
    "def optimise_signal_affine_v3(signal_in: hs.signals.Signal2D, bounds=None, maxiter=1000):\n",
    "    parameters = np.empty((signal_in.data.shape[0], 6))\n",
    "    index_ref = ipm.highest_mutual_information_index(signal_in)\n",
    "    arr_ref = signal_in.data[index_ref]\n",
    "    \n",
    "    # data_pre: all elements up to and including index_ref, reversed\n",
    "    data_pre = signal_in.data[:index_ref+1][::-1]\n",
    "    assert data_pre.shape[0] == index_ref + 1\n",
    "    # data_post: all elements from index_ref onwards\n",
    "    data_post = signal_in.data[index_ref:]\n",
    "    assert data_post.shape[0] == signal_in.data.shape[0] - index_ref\n",
    "    \n",
    "    for t in range(data_pre.shape[0]):\n",
    "        parameters[index_ref - t] = optimise_affine_by_differential_evolution(data_pre[t], arr_ref, bounds=bounds, maxiter=maxiter).x\n",
    "        arr_ref = ipm.transform_using_values(data_pre[t], parameters[index_ref - t])\n",
    "    arr_ref = signal_in.data[index_ref]\n",
    "    for t in range(data_post.shape[0]):\n",
    "        parameters[index_ref + t] = optimise_affine_by_differential_evolution(data_post[t], arr_ref, bounds=bounds, maxiter=maxiter).x\n",
    "        arr_ref = ipm.transform_using_values(data_post[t], parameters[index_ref + t])\n",
    "    return parameters\n",
    "\n",
    "def transform_signal_affine(signal_in: hs.signals.Signal2D, parameters: np.array):\n",
    "    signal_out = hs.signals.Signal2D(np.empty_like(signal_in.data))\n",
    "    for t in range(signal_in.data.shape[0]):\n",
    "        signal_out.data[t] = ipm.transform_using_values(signal_in.data[t], parameters[t])\n",
    "    return signal_out"
   ]
  },
  {
   "cell_type": "code",
   "execution_count": 5,
   "metadata": {},
   "outputs": [
    {
     "data": {
      "text/plain": [
       "1"
      ]
     },
     "execution_count": 5,
     "metadata": {},
     "output_type": "execute_result"
    }
   ],
   "source": [
    "index_ref_A = ipm.highest_mutual_information_index(signal_A)\n",
    "index_ref_A"
   ]
  },
  {
   "cell_type": "code",
   "execution_count": 23,
   "metadata": {},
   "outputs": [],
   "source": [
    "parameters_affine_A_v2 = optimise_signal_affine_v2(signal_A, maxiter=100)"
   ]
  },
  {
   "cell_type": "code",
   "execution_count": 24,
   "metadata": {},
   "outputs": [
    {
     "data": {
      "text/plain": [
       "array([1., 1., 0., 0., 0., 0.])"
      ]
     },
     "execution_count": 24,
     "metadata": {},
     "output_type": "execute_result"
    }
   ],
   "source": [
    "parameters_affine_A_v2[index_ref_A]"
   ]
  },
  {
   "cell_type": "code",
   "execution_count": 25,
   "metadata": {},
   "outputs": [],
   "source": [
    "signal_affine_A = transform_signal_affine(signal_A, parameters_affine_A_v2)"
   ]
  },
  {
   "cell_type": "code",
   "execution_count": 26,
   "metadata": {},
   "outputs": [
    {
     "data": {
      "text/plain": [
       "<matplotlib.image.AxesImage at 0x7f5e75597f60>"
      ]
     },
     "execution_count": 26,
     "metadata": {},
     "output_type": "execute_result"
    },
    {
     "data": {
      "image/png": "[encoded data removed]",
      "text/plain": [
       "<Figure size 697.263x288 with 1 Axes>"
      ]
     },
     "metadata": {},
     "output_type": "display_data"
    }
   ],
   "source": [
    "plt.matshow(np.hstack((signal_A.data[index_ref_A], signal_affine_A.data[index_ref_A])))"
   ]
  },
  {
   "cell_type": "code",
   "execution_count": 30,
   "metadata": {},
   "outputs": [
    {
     "data": {
      "text/plain": [
       "66"
      ]
     },
     "execution_count": 30,
     "metadata": {},
     "output_type": "execute_result"
    }
   ],
   "source": [
    "index_ref_2 = ipm.highest_mutual_information_index(signal_2)\n",
    "index_ref_2"
   ]
  },
  {
   "cell_type": "code",
   "execution_count": 28,
   "metadata": {},
   "outputs": [],
   "source": [
    "parameters_affine_2 = optimise_signal_affine(signal_2, maxiter=100)"
   ]
  },
  {
   "cell_type": "code",
   "execution_count": 40,
   "metadata": {},
   "outputs": [],
   "source": [
    "parameters_affine_2_v2 = optimise_signal_affine_v3(signal_2, maxiter=100)"
   ]
  },
  {
   "cell_type": "code",
   "execution_count": 31,
   "metadata": {},
   "outputs": [
    {
     "data": {
      "text/plain": [
       "array([1., 1., 0., 0., 0., 0.])"
      ]
     },
     "execution_count": 31,
     "metadata": {},
     "output_type": "execute_result"
    }
   ],
   "source": [
    "parameters_affine_2[index_ref_2]"
   ]
  },
  {
   "cell_type": "code",
   "execution_count": 41,
   "metadata": {},
   "outputs": [
    {
     "data": {
      "text/plain": [
       "array([1., 1., 0., 0., 0., 0.])"
      ]
     },
     "execution_count": 41,
     "metadata": {},
     "output_type": "execute_result"
    }
   ],
   "source": [
    "parameters_affine_2_v2[index_ref_2]"
   ]
  },
  {
   "cell_type": "code",
   "execution_count": 32,
   "metadata": {},
   "outputs": [],
   "source": [
    "signal_affine_2 = transform_signal_affine(signal_2, parameters_affine_2)"
   ]
  },
  {
   "cell_type": "code",
   "execution_count": 42,
   "metadata": {},
   "outputs": [],
   "source": [
    "signal_affine_2_v2 = transform_signal_affine(signal_2, parameters_affine_2_v2)"
   ]
  },
  {
   "cell_type": "code",
   "execution_count": 33,
   "metadata": {},
   "outputs": [
    {
     "data": {
      "text/plain": [
       "<matplotlib.image.AxesImage at 0x7f5e7551c2e8>"
      ]
     },
     "execution_count": 33,
     "metadata": {},
     "output_type": "execute_result"
    },
    {
     "data": {
      "image/png": "[encoded data removed]",
      "text/plain": [
       "<Figure size 725.333x288 with 1 Axes>"
      ]
     },
     "metadata": {},
     "output_type": "display_data"
    }
   ],
   "source": [
    "plt.matshow(np.hstack((signal_2.data[index_ref_2], signal_affine_2.data[index_ref_2])))"
   ]
  },
  {
   "cell_type": "code",
   "execution_count": 43,
   "metadata": {},
   "outputs": [
    {
     "data": {
      "text/plain": [
       "<matplotlib.image.AxesImage at 0x7f5e568cb668>"
      ]
     },
     "execution_count": 43,
     "metadata": {},
     "output_type": "execute_result"
    }
   ],
   "source": [
    "plt.matshow(np.hstack((signal_2.data[index_ref_2], signal_affine_2_v2.data[index_ref_2])))"
   ]
  },
  {
   "cell_type": "code",
   "execution_count": 34,
   "metadata": {},
   "outputs": [
    {
     "data": {
      "text/plain": [
       "<matplotlib.image.AxesImage at 0x7f5e7546aef0>"
      ]
     },
     "execution_count": 34,
     "metadata": {},
     "output_type": "execute_result"
    },
    {
     "data": {
      "image/png": "[encoded data removed]",
      "text/plain": [
       "<Figure size 362.667x288 with 1 Axes>"
      ]
     },
     "metadata": {},
     "output_type": "display_data"
    }
   ],
   "source": [
    "plt.matshow(abs(signal_2.data[index_ref_2] - signal_affine_2.data[index_ref_2]))"
   ]
  },
  {
   "cell_type": "code",
   "execution_count": 35,
   "metadata": {},
   "outputs": [
    {
     "data": {
      "text/plain": [
       "[0.0003046158087371964, 3.079401214529603, 56.12428907599384]"
      ]
     },
     "execution_count": 35,
     "metadata": {},
     "output_type": "execute_result"
    }
   ],
   "source": [
    "[abs(signal_2.data[index_ref_2] - signal_affine_2.data[index_ref_2]).min(), abs(signal_2.data[index_ref_2] - signal_affine_2.data[index_ref_2]).mean(), abs(signal_2.data[index_ref_2] - signal_affine_2.data[index_ref_2]).max()]"
   ]
  },
  {
   "cell_type": "code",
   "execution_count": 36,
   "metadata": {},
   "outputs": [
    {
     "data": {
      "text/plain": [
       "[[28.91828846919111, 30.007113605580916],\n",
       " [237.02318365004902, 237.36775082260374],\n",
       " [3515.6187195660495, 3492.90136112175]]"
      ]
     },
     "execution_count": 36,
     "metadata": {},
     "output_type": "execute_result"
    }
   ],
   "source": [
    "[[signal_2.data[index_ref_2].min(), signal_affine_2.data[index_ref_2].min()], [signal_2.data[index_ref_2].mean(), signal_affine_2.data[index_ref_2].mean()], [signal_2.data[index_ref_2].max(), signal_affine_2.data[index_ref_2].max()]]"
   ]
  },
  {
   "cell_type": "code",
   "execution_count": 35,
   "metadata": {},
   "outputs": [],
   "source": [
    "%matplotlib qt\n",
    "hs.plot.plot_signals([signal_2, signal_affine_2])"
   ]
  },
  {
   "cell_type": "code",
   "execution_count": 1,
   "metadata": {},
   "outputs": [
    {
     "ename": "NameError",
     "evalue": "name 'hs' is not defined",
     "output_type": "error",
     "traceback": [
      "\u001b[0;31m---------------------------------------------------------------------------\u001b[0m",
      "\u001b[0;31mNameError\u001b[0m                                 Traceback (most recent call last)",
      "\u001b[0;32m<ipython-input-1-18ad749ae7ca>\u001b[0m in \u001b[0;36m<module>\u001b[0;34m\u001b[0m\n\u001b[1;32m      1\u001b[0m \u001b[0mget_ipython\u001b[0m\u001b[0;34m(\u001b[0m\u001b[0;34m)\u001b[0m\u001b[0;34m.\u001b[0m\u001b[0mrun_line_magic\u001b[0m\u001b[0;34m(\u001b[0m\u001b[0;34m'matplotlib'\u001b[0m\u001b[0;34m,\u001b[0m \u001b[0;34m'qt'\u001b[0m\u001b[0;34m)\u001b[0m\u001b[0;34m\u001b[0m\u001b[0;34m\u001b[0m\u001b[0m\n\u001b[0;32m----> 2\u001b[0;31m \u001b[0mhs\u001b[0m\u001b[0;34m.\u001b[0m\u001b[0mplot\u001b[0m\u001b[0;34m.\u001b[0m\u001b[0mplot_signals\u001b[0m\u001b[0;34m(\u001b[0m\u001b[0;34m[\u001b[0m\u001b[0msignal_2\u001b[0m\u001b[0;34m,\u001b[0m \u001b[0msignal_affine_2_v2\u001b[0m\u001b[0;34m]\u001b[0m\u001b[0;34m)\u001b[0m\u001b[0;34m\u001b[0m\u001b[0;34m\u001b[0m\u001b[0m\n\u001b[0m",
      "\u001b[0;31mNameError\u001b[0m: name 'hs' is not defined"
     ]
    }
   ],
   "source": [
    "%matplotlib qt\n",
    "hs.plot.plot_signals([signal_2, signal_affine_2_v2])"
   ]
  },
  {
   "cell_type": "code",
   "execution_count": 16,
   "metadata": {},
   "outputs": [],
   "source": [
    "parameters_affine_4 = optimise_signal_affine(signal_4, maxiter=100)"
   ]
  },
  {
   "cell_type": "code",
   "execution_count": 38,
   "metadata": {},
   "outputs": [],
   "source": [
    "signal_affine_4 = transform_signal_affine(signal_4, parameters_affine_4)"
   ]
  },
  {
   "cell_type": "code",
   "execution_count": 39,
   "metadata": {},
   "outputs": [
    {
     "data": {
      "text/plain": [
       "18"
      ]
     },
     "execution_count": 39,
     "metadata": {},
     "output_type": "execute_result"
    }
   ],
   "source": [
    "index_ref_4 = ipm.highest_mutual_information_index(signal_4)\n",
    "index_ref_4"
   ]
  },
  {
   "cell_type": "code",
   "execution_count": 40,
   "metadata": {},
   "outputs": [
    {
     "data": {
      "text/plain": [
       "<matplotlib.image.AxesImage at 0x7ff894849d30>"
      ]
     },
     "execution_count": 40,
     "metadata": {},
     "output_type": "execute_result"
    },
    {
     "data": {
      "image/png": "[encoded data removed]",
      "text/plain": [
       "<Figure size 576x288 with 1 Axes>"
      ]
     },
     "metadata": {},
     "output_type": "display_data"
    }
   ],
   "source": [
    "plt.matshow(np.hstack((signal_4.data[index_ref_4], signal_affine_4.data[index_ref_4])))"
   ]
  },
  {
   "cell_type": "code",
   "execution_count": 21,
   "metadata": {},
   "outputs": [
    {
     "data": {
      "text/plain": [
       "[1.0, 0.2950792523985621]"
      ]
     },
     "execution_count": 21,
     "metadata": {},
     "output_type": "execute_result"
    }
   ],
   "source": [
    "[ipm.mutual_information(signal_4.data[index_ref_4], signal_4.data[index_ref_4]), ipm.mutual_information(signal_affine_4.data[index_ref_4], signal_4.data[index_ref_4])]"
   ]
  },
  {
   "cell_type": "code",
   "execution_count": 6,
   "metadata": {},
   "outputs": [],
   "source": [
    "parameters_affine_4_precomputed = np.array([[ 7.77675658e-01,  7.85193237e-01, -3.17242583e-02,\n",
    "        -3.12868498e+00,  5.10765035e+01,  4.20837028e+01],\n",
    "       [ 6.33119974e-01,  6.48271344e-01,  1.28332434e-02,\n",
    "         7.62611439e-01,  2.65029800e+01,  1.53910101e+01],\n",
    "       [ 6.38870427e-01,  6.25628628e-01, -2.57320894e-02,\n",
    "         7.83898424e-01,  2.61202773e+01,  1.65801510e+01],\n",
    "       [ 7.63451187e-01,  8.22426838e-01,  6.81061995e-02,\n",
    "         3.02260569e+00,  4.69718832e+01,  5.16039817e+01],\n",
    "       [ 6.25947693e-01,  6.32132277e-01, -7.63741067e-02,\n",
    "         7.29988049e-01,  2.37473752e+01,  1.41929872e+01],\n",
    "       [ 8.18593463e-01,  8.34825057e-01,  7.10684543e-02,\n",
    "         3.00560646e+00,  5.08027756e+01,  3.89271654e+01],\n",
    "       [ 7.41094305e-01,  7.92722688e-01,  5.89671993e-02,\n",
    "         2.99325077e+00,  4.71147345e+01,  4.36558393e+01],\n",
    "       [ 7.38544587e-01,  8.19356074e-01,  2.02270709e-02,\n",
    "         2.98378992e+00,  5.06572601e+01,  4.72992017e+01],\n",
    "       [ 8.03376519e-01,  7.68033569e-01,  9.91949945e-02,\n",
    "        -3.06635642e+00,  5.97341150e+01,  4.34655930e+01],\n",
    "       [ 6.45873334e-01,  6.46927553e-01, -3.08440343e-02,\n",
    "         7.14363190e-01,  2.56569089e+01,  1.18748347e+01],\n",
    "       [ 7.49189241e-01,  8.04652553e-01,  4.36718676e-02,\n",
    "         3.00973958e+00,  5.17517950e+01,  4.49838255e+01],\n",
    "       [ 7.69220257e-01,  8.23565862e-01,  5.21976413e-02,\n",
    "         2.97651339e+00,  5.53185062e+01,  4.87370368e+01],\n",
    "       [ 8.43309952e-01,  7.64370168e-01, -1.72447827e-02,\n",
    "        -2.95163373e+00,  5.77412237e+01,  4.40856560e+01],\n",
    "       [ 7.91813262e-01,  7.58612062e-01,  1.20675229e-02,\n",
    "        -2.94404297e+00,  5.26165936e+01,  3.92424461e+01],\n",
    "       [ 7.78595974e-01,  7.77980755e-01,  4.34897907e-02,\n",
    "         2.94497519e+00,  5.50179790e+01,  3.84733268e+01],\n",
    "       [ 8.35541208e-01,  8.57667789e-01,  7.96660703e-02,\n",
    "         3.06402301e+00,  6.39011830e+01,  4.85660801e+01],\n",
    "       [ 8.64640712e-01,  7.66698910e-01, -7.39610801e-02,\n",
    "        -2.99261621e+00,  6.93488747e+01,  4.44823969e+01],\n",
    "       [ 8.19869642e-01,  7.17442987e-01,  5.53207474e-02,\n",
    "        -2.42741314e+00,  5.13262691e+01,  4.93640315e+01],\n",
    "       [ 7.79590078e-01,  7.60700944e-01, -3.86649348e-02,\n",
    "        -3.06900255e+00,  5.60686296e+01,  4.09937591e+01],\n",
    "       [ 8.23104783e-01,  8.16914362e-01,  7.22315476e-02,\n",
    "         3.00551161e+00,  6.65390548e+01,  4.66560698e+01]])"
   ]
  },
  {
   "cell_type": "code",
   "execution_count": 29,
   "metadata": {},
   "outputs": [],
   "source": [
    "signal_affine_4_precomputed = transform_signal_affine(signal_4, parameters_affine_4_precomputed)"
   ]
  },
  {
   "cell_type": "code",
   "execution_count": 11,
   "metadata": {},
   "outputs": [],
   "source": [
    "parameters_affine_4_A = np.array(parameters_affine_4_precomputed)\n",
    "for i in range(len(parameters_affine_4_precomputed)):\n",
    "    parameters_affine_4_A[i][4] = parameters_affine_4_precomputed[i][4] * (arr_A.shape[1]/signal_4.data.shape[2])\n",
    "    parameters_affine_4_A[i][5] = parameters_affine_4_precomputed[i][5] * (arr_A.shape[0]/signal_4.data.shape[1])"
   ]
  },
  {
   "cell_type": "code",
   "execution_count": 12,
   "metadata": {},
   "outputs": [],
   "source": [
    "signal_A_x20 = hs.signals.Signal2D(np.empty((signal_4.data.shape[0], arr_A.shape[0], arr_A.shape[1])))\n",
    "for t in range(signal_4.data.shape[0]):\n",
    "    signal_A_x20.data[t] = arr_A"
   ]
  },
  {
   "cell_type": "code",
   "execution_count": 15,
   "metadata": {},
   "outputs": [],
   "source": [
    "signal_A_x20_transformed = transform_signal_affine(signal_A_x20, parameters_affine_4_A)"
   ]
  },
  {
   "cell_type": "code",
   "execution_count": 30,
   "metadata": {},
   "outputs": [],
   "source": [
    "%matplotlib qt\n",
    "hs.plot.plot_signals([signal_4, signal_affine_4_precomputed, signal_A_x20_transformed])"
   ]
  },
  {
   "cell_type": "code",
   "execution_count": 26,
   "metadata": {},
   "outputs": [
    {
     "data": {
      "text/plain": [
       "<matplotlib.image.AxesImage at 0x7f57fb5892b0>"
      ]
     },
     "execution_count": 26,
     "metadata": {},
     "output_type": "execute_result"
    }
   ],
   "source": [
    "plt.matshow(np.hstack((signal_4.data[0], transform_using_values(signal_4.data[0]/signal_4.data[0].max(), parameters_affine_4_precomputed[0])*signal_4.data[0].max())))"
   ]
  },
  {
   "cell_type": "code",
   "execution_count": 23,
   "metadata": {},
   "outputs": [
    {
     "data": {
      "text/plain": [
       "array([[ 46415,  49245,  41267, ...,  54410,  63401,  42630],\n",
       "       [ 64586,  55420,  42795, ...,  59002,  49869,  73122],\n",
       "       [ 49558,  46429,  41782, ...,  52892,  54425,  45268],\n",
       "       ...,\n",
       "       [ 65949,  49356,  63305, ...,  70090,  56536,  63418],\n",
       "       [ 48407,  44730,  51716, ...,  60239,  49369, 101490],\n",
       "       [ 50542,  81756,  69079, ...,  72702,  59571,  65464]],\n",
       "      dtype=uint32)"
      ]
     },
     "execution_count": 23,
     "metadata": {},
     "output_type": "execute_result"
    }
   ],
   "source": [
    "signal_4.data[0]"
   ]
  },
  {
   "cell_type": "markdown",
   "metadata": {},
   "source": [
    "#### 'Pyramid' strategy"
   ]
  },
  {
   "cell_type": "code",
   "execution_count": 17,
   "metadata": {},
   "outputs": [],
   "source": [
    "def resize_signal(signal_in: hs.signals.Signal2D, new_height: int, new_width: int):\n",
    "    signal_out = hs.signals.Signal2D(np.empty((signal_in.data.shape[0], new_height, new_width)))\n",
    "    for t in range(signal_in.data.shape[0]):\n",
    "        signal_out.data[t] = skimage.transform.resize(signal_in.data[t], (new_height, new_width), mode='reflect', anti_aliasing=True)\n",
    "    return signal_out\n",
    "\n",
    "def transform_using_matrix(arr_in: np.array, matrix):\n",
    "    tform = skimage.transform.AffineTransform(matrix=matrix)\n",
    "    return skimage.transform.warp(arr_in/arr_in.max(), tform.inverse, cval=arr_in.mean()/arr_in.max())*arr_in.max()\n",
    "\n",
    "def registration_method_default(arr_moving: np.array, arr_ref: np.array, bounds=None, maxiter=1000):\n",
    "    return optimise_affine_by_differential_evolution(arr_moving, arr_ref, bounds=bounds, maxiter=maxiter).x\n",
    "\n",
    "def pyramid_affine(arr_moving: np.array, arr_ref: np.array, num_levels=3, registration_method=registration_method_default, reg_args=None):\n",
    "    # parameters = registration_method(arr_moving, arr_ref, *reg_args)\n",
    "    (height, width) = arr_moving.data.shape\n",
    "    tform_matrix = np.array([[1, 0, 0], [0, 1, 0], [0, 0, 1]])\n",
    "    #tform = skimage.transform.AffineTransform(matrix=np.array([[a0, a1, a2], [b0, b1, b2], [0, 0, 1]]))\n",
    "    for n in range(num_levels):\n",
    "        power_of_2 = num_levels - 1 - n\n",
    "        (new_height, new_width) = (max(1, height//(2**power_of_2)), max(1, width//(2**power_of_2)))\n",
    "        (arr_moving_downsampled, arr_ref_downsampled) = (transform_using_matrix(arr_moving, tform_matrix), arr_ref)\n",
    "        if power_of_2 > 0:\n",
    "            arr_moving_downsampled = skimage.transform.resize(arr_moving_downsampled, (new_height, new_width), mode='reflect', anti_aliasing=True)\n",
    "            arr_ref_downsampled = skimage.transform.resize(arr_ref_downsampled, (new_height, new_width), mode='reflect', anti_aliasing=True)\n",
    "        [scale_x, scale_y, shear, rotation, offset_x, offset_y] = registration_method(arr_moving_downsampled, arr_ref_downsampled, *reg_args)\n",
    "        if power_of_2 > 0:\n",
    "            # Computed offsets must be scaled up\n",
    "            offset_x = offset_x * height/new_height\n",
    "            offset_y = offset_y * width/new_width\n",
    "        new_tform_matrix = np.array([\n",
    "            [scale_x * math.cos(rotation), -scale_y * math.sin(rotation + shear), offset_x],\n",
    "            [scale_x * math.sin(rotation), scale_y * math.cos(rotation + shear), offset_y], \n",
    "            [0, 0, 1]\n",
    "        ])\n",
    "        tform_matrix = np.matmul(new_tform_matrix, tform_matrix)\n",
    "    a0 = tform_matrix[0][0]\n",
    "    a1 = tform_matrix[0][1]\n",
    "    a2 = tform_matrix[0][2]\n",
    "    b0 = tform_matrix[1][0]\n",
    "    b1 = tform_matrix[1][1]\n",
    "    b2 = tform_matrix[1][2]\n",
    "    scale_x = math.sqrt(a0**2 + b0**2)\n",
    "    scale_y = math.sqrt(a1**2 + b1**2)\n",
    "    rotation = math.atan2(b0, a0)\n",
    "    shear = math.atan2(-a1, b1) - rotation\n",
    "    offset_x = a2\n",
    "    offset_y = b2\n",
    "    return [scale_x, scale_y, shear, rotation, offset_x, offset_y]\n",
    "\n",
    "def affine_signal(signal_in: hs.signals.Signal2D, registration_method, reg_args=None):\n",
    "    parameters = np.empty((signal_in.data.shape[0], 6))\n",
    "    index_ref = ipm.highest_mutual_information_index(signal_in)\n",
    "    arr_ref = signal_in.data[index_ref]\n",
    "    for t in range(signal_in.data.shape[0]):\n",
    "        parameters[t] = registration_method(signal_in.data[t], arr_ref, *reg_args)\n",
    "    return parameters"
   ]
  },
  {
   "cell_type": "code",
   "execution_count": 18,
   "metadata": {},
   "outputs": [],
   "source": [
    "num_levels=3\n",
    "max_consecutive_scale_factor = 1.1\n",
    "max_consecutive_shear = math.pi/36 # 5 degrees\n",
    "max_consecutive_rotate = math.pi/36 # 5 degrees\n",
    "max_consecutive_translate_factor = 0.05\n",
    "bounds = [\n",
    "    (1/max_consecutive_scale_factor, max_consecutive_scale_factor),\n",
    "    (1/max_consecutive_scale_factor, max_consecutive_scale_factor),\n",
    "    (-max_consecutive_shear, max_consecutive_shear),\n",
    "    (-max_consecutive_rotate, max_consecutive_rotate),\n",
    "    (-arr_A.shape[0]*max_consecutive_translate_factor, arr_A.shape[0]*max_consecutive_translate_factor),\n",
    "    (-arr_A.shape[1]*max_consecutive_translate_factor, arr_A.shape[1]*max_consecutive_translate_factor)]\n",
    "maxiter = 100\n",
    "params_pyramid_A = affine_signal(signal_A, pyramid_affine, reg_args=(num_levels, registration_method_default, (bounds, maxiter)))"
   ]
  },
  {
   "cell_type": "code",
   "execution_count": 19,
   "metadata": {},
   "outputs": [
    {
     "data": {
      "text/plain": [
       "[(0.9090909090909091, 1.1),\n",
       " (0.9090909090909091, 1.1),\n",
       " (-0.08726646259971647, 0.08726646259971647),\n",
       " (-0.08726646259971647, 0.08726646259971647),\n",
       " (-1.9000000000000001, 1.9000000000000001),\n",
       " (-2.3000000000000003, 2.3000000000000003)]"
      ]
     },
     "execution_count": 19,
     "metadata": {},
     "output_type": "execute_result"
    }
   ],
   "source": [
    "bounds"
   ]
  },
  {
   "cell_type": "code",
   "execution_count": 20,
   "metadata": {},
   "outputs": [
    {
     "data": {
      "text/plain": [
       "array([[ 1.00174622,  0.99016487, -0.00894454,  0.00679667,  1.21003408,\n",
       "        -2.3554975 ],\n",
       "       [ 1.        ,  1.        , -0.        ,  0.        ,  0.        ,\n",
       "         0.        ],\n",
       "       [ 1.00240832,  1.01772405, -0.00613766,  0.00284131, -0.19755799,\n",
       "         0.10906536]])"
      ]
     },
     "execution_count": 20,
     "metadata": {},
     "output_type": "execute_result"
    }
   ],
   "source": [
    "params_pyramid_A"
   ]
  },
  {
   "cell_type": "code",
   "execution_count": 25,
   "metadata": {},
   "outputs": [],
   "source": [
    "signal_pyramid_A = transform_signal_affine(signal_A, params_pyramid_A)"
   ]
  },
  {
   "cell_type": "code",
   "execution_count": 62,
   "metadata": {},
   "outputs": [],
   "source": [
    "%matplotlib qt\n",
    "hs.plot.plot_signals([signal_A, signal_pyramid_A])"
   ]
  },
  {
   "cell_type": "code",
   "execution_count": 26,
   "metadata": {},
   "outputs": [
    {
     "data": {
      "text/plain": [
       "<matplotlib.image.AxesImage at 0x7f0bbf977e80>"
      ]
     },
     "execution_count": 26,
     "metadata": {},
     "output_type": "execute_result"
    },
    {
     "data": {
      "image/png": "[encoded data removed]",
      "text/plain": [
       "<Figure size 1045.89x288 with 1 Axes>"
      ]
     },
     "metadata": {},
     "output_type": "display_data"
    }
   ],
   "source": [
    "plt.matshow(np.hstack((signal_pyramid_A.data[0], signal_pyramid_A.data[1], signal_pyramid_A.data[2])))"
   ]
  },
  {
   "cell_type": "markdown",
   "metadata": {},
   "source": [
    "#### \"Simple\" affine transformation: rotation and scaling only, scale_x = scale_y"
   ]
  },
  {
   "cell_type": "code",
   "execution_count": 11,
   "metadata": {},
   "outputs": [],
   "source": [
    "scale_simple = 0.8\n",
    "rotation_simple = -math.pi/12\n",
    "#arr_A_affine_simple = skimage.transform.warp(arr_A, skimage.transform.AffineTransform(matrix=np.array([[scale_simple * math.cos(rotation_simple), -scale_simple * math.sin(rotation_simple), 0], [scale_simple * math.sin(rotation_simple), scale_simple * math.cos(rotation_simple), 0], [0, 0, 1]])).inverse)\n",
    "arr_A_affine_simple = ipm.transform_using_values(arr_A, [scale_simple, scale_simple, 0, rotation_simple, 0, 0])"
   ]
  },
  {
   "cell_type": "code",
   "execution_count": 12,
   "metadata": {},
   "outputs": [
    {
     "data": {
      "text/plain": [
       "<matplotlib.image.AxesImage at 0x7f65854277b8>"
      ]
     },
     "execution_count": 12,
     "metadata": {},
     "output_type": "execute_result"
    }
   ],
   "source": [
    "plt.matshow(arr_A_affine_simple)"
   ]
  },
  {
   "cell_type": "markdown",
   "metadata": {},
   "source": [
    "#### Calculate mutual information between transformed arr_A and reference image pictured above, for a range of scale and rotation values"
   ]
  },
  {
   "cell_type": "code",
   "execution_count": 19,
   "metadata": {},
   "outputs": [],
   "source": [
    "scale_min = 0.1\n",
    "scale_max = 2\n",
    "rotation_min = -math.pi\n",
    "rotation_max = math.pi\n",
    "num_scales = 100\n",
    "num_rotations = 100\n",
    "#tformed = np.array((num_scales, num_rotations, arr_A.shape[0], arr_A.shape[1]))\n",
    "tformed = []\n",
    "for i in range(num_scales):\n",
    "    tformed.append([])\n",
    "    scale_current = scale_min + (scale_max - scale_min) * i/(num_scales-1)\n",
    "    for j in range(num_rotations):\n",
    "        rotation_current = rotation_min + (rotation_max - rotation_min) * j/(num_rotations-1)\n",
    "        #tformed[i][j] = skimage.transform.warp(arr_A, skimage.transform.AffineTransform(matrix=np.array([[scale_current * math.cos(rotation_current), -scale_current * math.sin(rotation_current), 0], [scale_current * math.sin(rotation_current), scale_current * math.cos(rotation_current), 0], [0, 0, 1]])).inverse)\n",
    "        #tformed[i].append(skimage.transform.warp(arr_A, skimage.transform.AffineTransform(matrix=np.array([[scale_current * math.cos(rotation_current), -scale_current * math.sin(rotation_current), 0], [scale_current * math.sin(rotation_current), scale_current * math.cos(rotation_current), 0], [0, 0, 1]])).inverse))\n",
    "        tformed[i].append(ipm.transform_using_values(arr_A, [scale_current, scale_current, 0, rotation_current, 0, 0]))\n",
    "#tformed_mi = np.array((num_scales, num_rotations))\n",
    "tformed_mi = []\n",
    "for i in range(num_scales):\n",
    "    tformed_mi.append([])\n",
    "    for j in range(num_rotations):\n",
    "        #tformed_mi[i][j] = ipm.mutual_information(tformed[i][j], arr_A_affine_simple)\n",
    "        tformed_mi[i].append(ipm.mutual_information(tformed[i][j], arr_A_affine_simple))\n",
    "arr_mi = np.array(tformed_mi)"
   ]
  },
  {
   "cell_type": "markdown",
   "metadata": {},
   "source": [
    "#### Plot mutual information as calculated above (intensity) against scale factor (vertical axis) and rotation (horizontal axis)"
   ]
  },
  {
   "cell_type": "code",
   "execution_count": 41,
   "metadata": {},
   "outputs": [
    {
     "data": {
      "text/plain": [
       "<matplotlib.image.AxesImage at 0x7f6dfcb16c88>"
      ]
     },
     "execution_count": 41,
     "metadata": {},
     "output_type": "execute_result"
    },
    {
     "data": {
      "image/png": "[encoded data removed]",
      "text/plain": [
       "<Figure size 288x288 with 1 Axes>"
      ]
     },
     "metadata": {},
     "output_type": "display_data"
    }
   ],
   "source": [
    "plt.matshow(arr_mi)"
   ]
  },
  {
   "cell_type": "code",
   "execution_count": 20,
   "metadata": {},
   "outputs": [
    {
     "data": {
      "text/plain": [
       "<matplotlib.image.AxesImage at 0x7f658456f080>"
      ]
     },
     "execution_count": 20,
     "metadata": {},
     "output_type": "execute_result"
    }
   ],
   "source": [
    "plt.matshow(arr_mi)"
   ]
  },
  {
   "cell_type": "markdown",
   "metadata": {},
   "source": [
    "#### \"Moving\" image (left) and \"reference\" image (right)"
   ]
  },
  {
   "cell_type": "code",
   "execution_count": 42,
   "metadata": {},
   "outputs": [
    {
     "data": {
      "text/plain": [
       "<matplotlib.image.AxesImage at 0x7f6dfcae9a58>"
      ]
     },
     "execution_count": 42,
     "metadata": {},
     "output_type": "execute_result"
    },
    {
     "data": {
      "image/png": "[encoded data removed]",
      "text/plain": [
       "<Figure size 697.263x288 with 1 Axes>"
      ]
     },
     "metadata": {},
     "output_type": "display_data"
    }
   ],
   "source": [
    "plt.matshow(np.hstack((arr_A, arr_A_affine_simple)))"
   ]
  },
  {
   "cell_type": "markdown",
   "metadata": {},
   "source": [
    "#### Print estimated and true scale and rotation values\n",
    "The values estimated are reasonably close to the true values."
   ]
  },
  {
   "cell_type": "code",
   "execution_count": 43,
   "metadata": {},
   "outputs": [
    {
     "data": {
      "text/plain": [
       "[[0.7839999999999999, -0.3141592653589793], [0.8, -0.2617993877991494]]"
      ]
     },
     "execution_count": 43,
     "metadata": {},
     "output_type": "execute_result"
    }
   ],
   "source": [
    "(opt_i, opt_j) = np.unravel_index(np.argmax(arr_mi), arr_mi.shape)\n",
    "opt_scale = scale_min + (scale_max - scale_min) * opt_i/num_scales\n",
    "opt_rotation = rotation_min + (rotation_max - rotation_min) * opt_j/num_rotations\n",
    "[[opt_scale, opt_rotation], [scale_simple, rotation_simple]]"
   ]
  },
  {
   "cell_type": "markdown",
   "metadata": {},
   "source": [
    "#### Compare mutual information between transformed image and reference image with the MI of the reference image with itself"
   ]
  },
  {
   "cell_type": "code",
   "execution_count": 44,
   "metadata": {},
   "outputs": [
    {
     "data": {
      "text/plain": [
       "[0.7676894916116072, 0.9999999999999999]"
      ]
     },
     "execution_count": 44,
     "metadata": {},
     "output_type": "execute_result"
    }
   ],
   "source": [
    "[ipm.mutual_information(tformed[opt_i][opt_j], arr_A_affine_simple), ipm.mutual_information(arr_A_affine_simple, arr_A_affine_simple)]"
   ]
  },
  {
   "cell_type": "markdown",
   "metadata": {},
   "source": [
    "#### Transformed image, using estimated parameter values"
   ]
  },
  {
   "cell_type": "code",
   "execution_count": 45,
   "metadata": {},
   "outputs": [
    {
     "data": {
      "text/plain": [
       "<matplotlib.image.AxesImage at 0x7f6dfca49748>"
      ]
     },
     "execution_count": 45,
     "metadata": {},
     "output_type": "execute_result"
    },
    {
     "data": {
      "image/png": "[encoded data removed]",
      "text/plain": [
       "<Figure size 697.263x288 with 1 Axes>"
      ]
     },
     "metadata": {},
     "output_type": "display_data"
    }
   ],
   "source": [
    "plt.matshow(np.hstack((tformed[opt_i][opt_j], arr_A_affine_simple)))"
   ]
  },
  {
   "cell_type": "markdown",
   "metadata": {},
   "source": [
    "#### \"Hacky\" affine optimisation method (bad, do not use)"
   ]
  },
  {
   "cell_type": "code",
   "execution_count": 853,
   "metadata": {},
   "outputs": [],
   "source": [
    "def affine_optimisation_hacky(arr_moving: np.array, arr_ref: np.array, grid_dim=5, num_samples=15, num_iterations=20, scale_x_min=0.5, scale_x_max=2, scale_y_min=0.5, scale_y_max=2, shear_radians_min=-math.pi/3, shear_radians_max=math.pi/3, rotate_radians_min=-math.pi, rotate_radians_max=math.pi, offset_x_min=-10, offset_x_max=10, offset_y_min=-10, offset_y_max=10):\n",
    "    num_samples_original = num_samples    \n",
    "    scale_x_min_original = scale_x_min\n",
    "    scale_x_max_original = scale_x_max\n",
    "    scale_y_min_original = scale_y_min\n",
    "    scale_y_max_original = scale_y_max\n",
    "    shear_radians_min_original = shear_radians_min\n",
    "    shear_radians_max_original = shear_radians_max\n",
    "    rotate_radians_min_original = rotate_radians_min\n",
    "    rotate_radians_max_original = rotate_radians_max\n",
    "    offset_x_min_original = offset_x_min\n",
    "    offset_x_max_original = offset_x_max\n",
    "    offset_y_min_original = offset_y_min\n",
    "    offset_y_max_original = offset_y_max\n",
    "        \n",
    "    def affine_optimisation_hacky_internal(arr_moving: np.array, arr_ref: np.array, scale_x_min, scale_x_max, scale_y_min, scale_y_max, shear_radians_min, shear_radians_max, rotate_radians_min, rotate_radians_max, offset_x_min, offset_x_max, offset_y_min, offset_y_max):\n",
    "        assert scale_x_max >= scale_x_min\n",
    "        assert scale_y_max >= scale_y_min\n",
    "        assert shear_radians_max >= shear_radians_min\n",
    "        assert rotate_radians_max >= rotate_radians_min\n",
    "        assert offset_x_max >= offset_x_min\n",
    "        assert offset_y_max >= offset_y_min\n",
    "        step_scale_x = (scale_x_max - scale_x_min)/(grid_dim-1)\n",
    "        step_scale_y = (scale_y_max - scale_y_min)/(grid_dim-1)\n",
    "        step_shear = (shear_radians_max - shear_radians_min)/(grid_dim-1)\n",
    "        step_rotation = (rotate_radians_max - rotate_radians_min)/(grid_dim-1)\n",
    "        step_offset_x = (offset_x_max - offset_x_min)/(grid_dim-1)\n",
    "        step_offset_y = (offset_y_max - offset_y_min)/(grid_dim-1)\n",
    "        max_sample_index = grid_dim**6 - 1\n",
    "        sample_indices = (np.array(range(num_samples)) * max_sample_index / (num_samples - 1)) // 1\n",
    "        def num_to_base(num, base, max_index):\n",
    "            # Tested on paper, seems to work as intended\n",
    "            digits = []\n",
    "            remainder = num\n",
    "            for i in range(max_index):\n",
    "                # current_index is initially max_index-1 and ends up at zero\n",
    "                current_index = max_index - i - 1\n",
    "                digits.append(remainder // (base**current_index))\n",
    "                remainder = remainder % (base**current_index)\n",
    "            return digits\n",
    "        def digits_to_values(digits):\n",
    "            assert len(digits) == 6\n",
    "            values = [scale_x_min + step_scale_x * digits[0], scale_y_min + step_scale_y * digits[1], shear_radians_min + step_shear * digits[2], rotate_radians_min + step_rotation * digits[3], offset_x_min + step_offset_x * digits[4], offset_y_min + step_offset_y * digits[5]]\n",
    "            return values\n",
    "        #max_mi = 0\n",
    "        #max_mi_parameter_values = np.zeros(6)\n",
    "        max_mi_parameter_values = np.array([scale_x_min + scale_x_max, scale_y_min + scale_y_max, shear_radians_min + shear_radians_max, rotate_radians_min + rotate_radians_max, offset_x_min + offset_x_max, offset_y_min + offset_y_max]) * 0.5\n",
    "        max_mi = ipm.mutual_information(transform_using_values(arr_moving, max_mi_parameter_values), arr_ref)\n",
    "        for current_index in sample_indices:\n",
    "            values = digits_to_values(num_to_base(current_index, grid_dim, 6))\n",
    "            tformed = transform_using_values(arr_moving, values)\n",
    "            current_mi = ipm.mutual_information(tformed, arr_ref)\n",
    "            if (current_mi > max_mi):\n",
    "                max_mi = current_mi\n",
    "                max_mi_parameter_values = np.array(values)\n",
    "        return max_mi_parameter_values\n",
    "    \n",
    "    def optimisation_1d_internal(parameter_index, scale_x, scale_y, shear_radians, rotate_radians, offset_x, offset_y):\n",
    "        sx1 = scale_x\n",
    "        sx2 = scale_x\n",
    "        sy1 = scale_y\n",
    "        sy2 = scale_y\n",
    "        sr1 = shear_radians\n",
    "        sr2 = shear_radians\n",
    "        rr1 = rotate_radians\n",
    "        rr2 = rotate_radians\n",
    "        ox1 = offset_x\n",
    "        ox2 = offset_x\n",
    "        oy1 = offset_y\n",
    "        oy2 = offset_y\n",
    "        if parameter_index == 0:\n",
    "            step_scale_x = (scale_x_max - scale_x_min)/(grid_dim-1)\n",
    "            sx1 = scale_x_min\n",
    "            sx2 = scale_x_max\n",
    "        if parameter_index == 1:\n",
    "            step_scale_y = (scale_y_max - scale_y_min)/(grid_dim-1)\n",
    "            sy1 = scale_y_min\n",
    "            sy2 = scale_y_max\n",
    "        if parameter_index == 2:\n",
    "            step_shear = (shear_radians_max - shear_radians_min)/(grid_dim-1)\n",
    "            sr1 = shear_radians_min\n",
    "            sr2 = shear_radians_max\n",
    "        if parameter_index == 3:\n",
    "            step_rotation = (rotate_radians_max - rotate_radians_min)/(grid_dim-1)\n",
    "            rr1 = rotate_radians_min\n",
    "            rr2 = rotate_radians_max\n",
    "        if parameter_index == 4:\n",
    "            step_offset_x = (offset_x_max - offset_x_min)/(grid_dim-1)\n",
    "            ox1 = offset_x_min\n",
    "            ox2 = offset_x_max\n",
    "        if parameter_index == 5:\n",
    "            step_offset_y = (offset_y_max - offset_y_min)/(grid_dim-1)\n",
    "            oy1 = offset_y_min\n",
    "            oy2 = offset_y_max\n",
    "        max_mi_parameter_values = affine_optimisation_hacky_internal(arr_moving, arr_ref, sx1, sx2, sy1, sy2, sr1, sr2, rr1, rr2, ox1, ox2, oy1, oy2)\n",
    "        return max_mi_parameter_values\n",
    "    \n",
    "    #values_best = np.array([scale_x_min + scale_x_max, scale_y_min + scale_y_max, shear_radians_min + shear_radians_max, rotate_radians_min + rotate_radians_max, offset_x_min + offset_x_max, offset_y_min + offset_y_max]) * 0.5\n",
    "    values_best = np.array([1, 1, 0, 0, 0, 0])\n",
    "    mi_best = ipm.mutual_information(arr_ref, transform_using_values(arr_moving, values_best))\n",
    "    #mi_best = ipm.mutual_information(arr_ref, arr_moving)\n",
    "    index_best = -2\n",
    "    n = 0\n",
    "    while n < num_iterations:\n",
    "        index_best = -2\n",
    "            \n",
    "        values_base = values_best\n",
    "                \n",
    "        values_6d = affine_optimisation_hacky_internal(arr_moving, arr_ref, scale_x_min, scale_x_max, scale_y_min, scale_y_max, shear_radians_min, shear_radians_max, rotate_radians_min, rotate_radians_max, offset_x_min, offset_x_max, offset_y_min, offset_y_max)\n",
    "        mi_6d = 0\n",
    "        try:\n",
    "            mi_6d = ipm.mutual_information(arr_ref, transform_using_values(arr_moving, values_6d))\n",
    "        except:\n",
    "            print(str(values_6d))\n",
    "        if mi_6d > mi_best:\n",
    "            mi_best = mi_6d\n",
    "            index_best = -1\n",
    "            values_best = values_6d\n",
    "            num_samples = num_samples_original\n",
    "        \n",
    "        for i in range(6):\n",
    "            values_current = optimisation_1d_internal(i, values_base[0], values_base[1], values_base[2], values_base[3], values_base[4], values_base[5])\n",
    "            mi_current = ipm.mutual_information(arr_ref, transform_using_values(arr_moving, values_current))\n",
    "            if mi_current > mi_best:\n",
    "                index_best = i\n",
    "                values_best = values_current\n",
    "                mi_best = mi_current\n",
    "                num_samples = num_samples_original\n",
    "                \n",
    "        step_scale_x = (scale_x_max - scale_x_min)/(grid_dim-1)\n",
    "        step_scale_y = (scale_y_max - scale_y_min)/(grid_dim-1)\n",
    "        step_shear = (shear_radians_max - shear_radians_min)/(grid_dim-1)\n",
    "        step_rotation = (rotate_radians_max - rotate_radians_min)/(grid_dim-1)\n",
    "        step_offset_x = (offset_x_max - offset_x_min)/(grid_dim-1)\n",
    "        step_offset_y = (offset_y_max - offset_y_min)/(grid_dim-1)\n",
    "        if index_best == -2:\n",
    "            num_samples += int(num_samples_original * 0.1)\n",
    "            if num_samples > num_samples_original*2:\n",
    "                break\n",
    "        if index_best == -1:\n",
    "            scale_x_min = max(scale_x_min_original, min(scale_x_min + step_scale_x, values_best[0] - step_scale_x))\n",
    "            scale_x_max = min(scale_x_max_original, max(scale_x_max - step_scale_x, values_best[0] + step_scale_x))\n",
    "            scale_y_min = max(scale_y_min_original, min(scale_y_min + step_scale_y, values_best[1] - step_scale_y))\n",
    "            scale_y_max = min(scale_y_max_original, max(scale_y_max - step_scale_y, values_best[1] + step_scale_y))\n",
    "            shear_radians_min = max(shear_radians_min_original, min(shear_radians_min + step_shear, values_best[2] - step_shear))\n",
    "            shear_radians_max = min(shear_radians_max_original, max(shear_radians_max - step_shear, values_best[2] + step_shear))\n",
    "            rotate_radians_min = max(rotate_radians_min_original, min(rotate_radians_min + step_rotation, values_best[3] - step_rotation))\n",
    "            rotate_radians_max = min(rotate_radians_max_original, max(rotate_radians_max - step_rotation, values_best[3] + step_rotation))\n",
    "            offset_x_min = max(offset_x_min_original, min(offset_x_min + step_offset_x, values_best[4] - step_offset_x))\n",
    "            offset_x_max = min(offset_x_max_original, max(offset_x_max - step_offset_x, values_best[4] + step_offset_x))\n",
    "            offset_y_min = max(offset_y_min_original, min(offset_y_min + step_offset_y, values_best[5] - step_offset_y))\n",
    "            offset_y_max = min(offset_y_max_original, max(offset_y_max - step_offset_y, values_best[5] + step_offset_y))\n",
    "        if index_best == 0:\n",
    "            #scale_x_min = max(scale_x_min_original, values_best[0] - step_scale_x)\n",
    "            #scale_x_max = min(scale_x_max_original, values_best[0] + step_scale_x)\n",
    "            scale_x_min = max(scale_x_min_original, min(scale_x_min + step_scale_x, values_best[0] - step_scale_x))\n",
    "            scale_x_max = min(scale_x_max_original, max(scale_x_max - step_scale_x, values_best[0] + step_scale_x))\n",
    "        if index_best == 1:\n",
    "            #scale_y_min = max(scale_y_min_original, values_best[1] - step_scale_y)\n",
    "            #scale_y_max = min(scale_y_max_original, values_best[1] + step_scale_y)\n",
    "            scale_y_min = max(scale_y_min_original, min(scale_y_min + step_scale_y, values_best[1] - step_scale_y))\n",
    "            scale_y_max = min(scale_y_max_original, max(scale_y_max - step_scale_y, values_best[1] + step_scale_y))\n",
    "        if index_best == 2:\n",
    "            #shear_radians_min = max(shear_radians_min_original, values_best[2] - step_shear)\n",
    "            #shear_radians_max = min(shear_radians_max_original, values_best[2] + step_shear)\n",
    "            shear_radians_min = max(shear_radians_min_original, min(shear_radians_min + step_shear, values_best[2] - step_shear))\n",
    "            shear_radians_max = min(shear_radians_max_original, max(shear_radians_max - step_shear, values_best[2] + step_shear))\n",
    "        if index_best == 3:\n",
    "            #rotate_radians_min = max(rotate_radians_min_original, values_best[3] - step_rotation)\n",
    "            #rotate_radians_max = min(rotate_radians_max_original, values_best[3] + step_rotation)\n",
    "            rotate_radians_min = max(rotate_radians_min_original, min(rotate_radians_min + step_rotation, values_best[3] - step_rotation))\n",
    "            rotate_radians_max = min(rotate_radians_max_original, max(rotate_radians_max - step_rotation, values_best[3] + step_rotation))\n",
    "        if index_best == 4:\n",
    "            #offset_x_min = max(offset_x_min_original, values_best[4] - step_offset_x)\n",
    "            #offset_x_max = min(offset_x_max_original, values_best[4] + step_offset_x)\n",
    "            offset_x_min = max(offset_x_min_original, min(offset_x_min + step_offset_x, values_best[4] - step_offset_x))\n",
    "            offset_x_max = min(offset_x_max_original, max(offset_x_max - step_offset_x, values_best[4] + step_offset_x))\n",
    "        if index_best == 5:\n",
    "            #offset_y_min = max(offset_y_min_original, values_best[5] - step_offset_y)\n",
    "            #offset_y_max = min(offset_y_max_original, values_best[5] + step_offset_y)\n",
    "            offset_y_min = max(offset_y_min_original, min(offset_y_min + step_offset_y, values_best[5] - step_offset_y))\n",
    "            offset_y_max = min(offset_y_max_original, max(offset_y_max - step_offset_y, values_best[5] + step_offset_y))\n",
    "        n += 1\n",
    "            \n",
    "    return [n, index_best, values_best, num_samples, [scale_x_min, scale_y_min, shear_radians_min, rotate_radians_min, offset_x_min, offset_y_min], [scale_x_max, scale_y_max, shear_radians_max, rotate_radians_max, offset_x_max, offset_y_max]]"
   ]
  },
  {
   "cell_type": "code",
   "execution_count": 904,
   "metadata": {},
   "outputs": [],
   "source": [
    "[n_0, index_best_0, values_hacky_0, ns_0, mins_0, maxes_0] = affine_optimisation_hacky(arr_A, arr_A_affine_v2, grid_dim=25, num_samples=90, num_iterations=0, scale_x_min=0.2, offset_x_min=-arr_A.shape[1], offset_x_max=arr_A.shape[1], offset_y_min=-arr_A.shape[0], offset_y_max=arr_A.shape[0])\n",
    "[n_1, index_best_1, values_hacky_1, ns_1, mins_1, maxes_1] = affine_optimisation_hacky(arr_A, arr_A_affine_v2, grid_dim=25, num_samples=90, num_iterations=1, scale_x_min=0.2, offset_x_min=-arr_A.shape[1], offset_x_max=arr_A.shape[1], offset_y_min=-arr_A.shape[0], offset_y_max=arr_A.shape[0])\n",
    "[n_2, index_best_2, values_hacky_2, ns_2, mins_2, maxes_2] = affine_optimisation_hacky(arr_A, arr_A_affine_v2, grid_dim=25, num_samples=90, num_iterations=2, scale_x_min=0.2, offset_x_min=-arr_A.shape[1], offset_x_max=arr_A.shape[1], offset_y_min=-arr_A.shape[0], offset_y_max=arr_A.shape[0])\n",
    "[n_3, index_best_3, values_hacky_3, ns_3, mins_3, maxes_3] = affine_optimisation_hacky(arr_A, arr_A_affine_v2, grid_dim=25, num_samples=90, num_iterations=3, scale_x_min=0.2, offset_x_min=-arr_A.shape[1], offset_x_max=arr_A.shape[1], offset_y_min=-arr_A.shape[0], offset_y_max=arr_A.shape[0])\n",
    "[n_4, index_best_4, values_hacky_4, ns_4, mins_4, maxes_4] = affine_optimisation_hacky(arr_A, arr_A_affine_v2, grid_dim=25, num_samples=90, num_iterations=4, scale_x_min=0.2, offset_x_min=-arr_A.shape[1], offset_x_max=arr_A.shape[1], offset_y_min=-arr_A.shape[0], offset_y_max=arr_A.shape[0])\n",
    "[n_5, index_best_5, values_hacky_5, ns_5, mins_5, maxes_5] = affine_optimisation_hacky(arr_A, arr_A_affine_v2, grid_dim=25, num_samples=90, num_iterations=5, scale_x_min=0.2, offset_x_min=-arr_A.shape[1], offset_x_max=arr_A.shape[1], offset_y_min=-arr_A.shape[0], offset_y_max=arr_A.shape[0])\n",
    "[n_X, index_best_X, values_hacky_X, ns_X, mins_X, maxes_X] = affine_optimisation_hacky(arr_A, arr_A_affine_v2, grid_dim=25, num_samples=90, num_iterations=10, scale_x_min=0.2, offset_x_min=-arr_A.shape[1], offset_x_max=arr_A.shape[1], offset_y_min=-arr_A.shape[0], offset_y_max=arr_A.shape[0])\n",
    "[n_C, index_best_C, values_hacky_C, ns_C, mins_C, maxes_C] = affine_optimisation_hacky(arr_A, arr_A_affine_v2, grid_dim=25, num_samples=90, num_iterations=100, scale_x_min=0.2, offset_x_min=-arr_A.shape[1], offset_x_max=arr_A.shape[1], offset_y_min=-arr_A.shape[0], offset_y_max=arr_A.shape[0])\n",
    "[n_M, index_best_M, values_hacky_M, ns_M, mins_M, maxes_M] = affine_optimisation_hacky(arr_A, arr_A_affine_v2, grid_dim=25, num_samples=90, num_iterations=1000, scale_x_min=0.2, offset_x_min=-arr_A.shape[1], offset_x_max=arr_A.shape[1], offset_y_min=-arr_A.shape[0], offset_y_max=arr_A.shape[0])"
   ]
  },
  {
   "cell_type": "code",
   "execution_count": 905,
   "metadata": {},
   "outputs": [
    {
     "data": {
      "text/plain": [
       "[0, 1, 2, 3, 4, 5, 10, 19, 19]"
      ]
     },
     "execution_count": 905,
     "metadata": {},
     "output_type": "execute_result"
    }
   ],
   "source": [
    "[n_0, n_1, n_2, n_3, n_4, n_5, n_X, n_C, n_M]"
   ]
  },
  {
   "cell_type": "code",
   "execution_count": 906,
   "metadata": {},
   "outputs": [
    {
     "data": {
      "text/plain": [
       "[90, 90, 90, 90, 90, 90, 99, 189, 189]"
      ]
     },
     "execution_count": 906,
     "metadata": {},
     "output_type": "execute_result"
    }
   ],
   "source": [
    "[ns_0, ns_1, ns_2, ns_3, ns_4, ns_5, ns_X, ns_C, ns_M]"
   ]
  },
  {
   "cell_type": "code",
   "execution_count": 907,
   "metadata": {},
   "outputs": [
    {
     "data": {
      "text/plain": [
       "[-2, 3, 0, 1, 0, 2, -2, -2, -2]"
      ]
     },
     "execution_count": 907,
     "metadata": {},
     "output_type": "execute_result"
    }
   ],
   "source": [
    "[index_best_0, index_best_1, index_best_2, index_best_3, index_best_4, index_best_5, index_best_X, index_best_C, index_best_M]"
   ]
  },
  {
   "cell_type": "code",
   "execution_count": 908,
   "metadata": {},
   "outputs": [
    {
     "data": {
      "text/plain": [
       "array([1, 1, 0, 0, 0, 0])"
      ]
     },
     "execution_count": 908,
     "metadata": {},
     "output_type": "execute_result"
    }
   ],
   "source": [
    "values_hacky_0"
   ]
  },
  {
   "cell_type": "code",
   "execution_count": 909,
   "metadata": {},
   "outputs": [
    {
     "data": {
      "text/plain": [
       "array([[  0.2       ,   2.        ],\n",
       "       [  0.5       ,   2.        ],\n",
       "       [ -1.04719755,   1.04719755],\n",
       "       [ -3.14159265,   3.14159265],\n",
       "       [-46.        ,  46.        ],\n",
       "       [-38.        ,  38.        ]])"
      ]
     },
     "execution_count": 909,
     "metadata": {},
     "output_type": "execute_result"
    }
   ],
   "source": [
    "np.array([mins_0, maxes_0]).T"
   ]
  },
  {
   "cell_type": "code",
   "execution_count": 910,
   "metadata": {},
   "outputs": [
    {
     "data": {
      "text/plain": [
       "array([1.        , 1.        , 0.        , 2.87979327, 0.        ,\n",
       "       0.        ])"
      ]
     },
     "execution_count": 910,
     "metadata": {},
     "output_type": "execute_result"
    }
   ],
   "source": [
    "values_hacky_1"
   ]
  },
  {
   "cell_type": "code",
   "execution_count": 911,
   "metadata": {},
   "outputs": [
    {
     "data": {
      "text/plain": [
       "array([[  0.2       ,   2.        ],\n",
       "       [  0.5       ,   2.        ],\n",
       "       [ -1.04719755,   1.04719755],\n",
       "       [ -2.87979327,   3.14159265],\n",
       "       [-46.        ,  46.        ],\n",
       "       [-38.        ,  38.        ]])"
      ]
     },
     "execution_count": 911,
     "metadata": {},
     "output_type": "execute_result"
    }
   ],
   "source": [
    "np.array([mins_1, maxes_1]).T"
   ]
  },
  {
   "cell_type": "code",
   "execution_count": 912,
   "metadata": {},
   "outputs": [
    {
     "data": {
      "text/plain": [
       "array([0.875     , 1.        , 0.        , 2.87979327, 0.        ,\n",
       "       0.        ])"
      ]
     },
     "execution_count": 912,
     "metadata": {},
     "output_type": "execute_result"
    }
   ],
   "source": [
    "values_hacky_2"
   ]
  },
  {
   "cell_type": "code",
   "execution_count": 913,
   "metadata": {},
   "outputs": [
    {
     "data": {
      "text/plain": [
       "array([[  0.275     ,   1.925     ],\n",
       "       [  0.5       ,   2.        ],\n",
       "       [ -1.04719755,   1.04719755],\n",
       "       [ -2.87979327,   3.14159265],\n",
       "       [-46.        ,  46.        ],\n",
       "       [-38.        ,  38.        ]])"
      ]
     },
     "execution_count": 913,
     "metadata": {},
     "output_type": "execute_result"
    }
   ],
   "source": [
    "np.array([mins_2, maxes_2]).T"
   ]
  },
  {
   "cell_type": "code",
   "execution_count": 914,
   "metadata": {},
   "outputs": [
    {
     "data": {
      "text/plain": [
       "array([0.825     , 0.875     , 0.08726646, 2.87979327, 0.        ,\n",
       "       0.        ])"
      ]
     },
     "execution_count": 914,
     "metadata": {},
     "output_type": "execute_result"
    }
   ],
   "source": [
    "values_hacky_5"
   ]
  },
  {
   "cell_type": "code",
   "execution_count": 915,
   "metadata": {},
   "outputs": [
    {
     "data": {
      "text/plain": [
       "array([[  0.34375   ,   1.85625   ],\n",
       "       [  0.5625    ,   1.9375    ],\n",
       "       [ -0.95993109,   0.95993109],\n",
       "       [ -2.87979327,   3.14159265],\n",
       "       [-46.        ,  46.        ],\n",
       "       [-38.        ,  38.        ]])"
      ]
     },
     "execution_count": 915,
     "metadata": {},
     "output_type": "execute_result"
    }
   ],
   "source": [
    "np.array([mins_5, maxes_5]).T"
   ]
  },
  {
   "cell_type": "code",
   "execution_count": 916,
   "metadata": {},
   "outputs": [
    {
     "data": {
      "text/plain": [
       "array([0.75338542, 0.79166667, 0.07999426, 2.87979327, 0.        ,\n",
       "       0.        ])"
      ]
     },
     "execution_count": 916,
     "metadata": {},
     "output_type": "execute_result"
    }
   ],
   "source": [
    "values_hacky_X"
   ]
  },
  {
   "cell_type": "code",
   "execution_count": 917,
   "metadata": {},
   "outputs": [
    {
     "data": {
      "text/plain": [
       "array([[  0.46453993,   1.73546007],\n",
       "       [  0.61979167,   1.88020833],\n",
       "       [ -0.87993683,   0.87993683],\n",
       "       [ -2.87979327,   3.14159265],\n",
       "       [-46.        ,  46.        ],\n",
       "       [-38.        ,  38.        ]])"
      ]
     },
     "execution_count": 917,
     "metadata": {},
     "output_type": "execute_result"
    }
   ],
   "source": [
    "np.array([mins_X, maxes_X]).T"
   ]
  },
  {
   "cell_type": "code",
   "execution_count": 918,
   "metadata": {},
   "outputs": [
    {
     "data": {
      "text/plain": [
       "array([0.75338542, 0.79166667, 0.07999426, 2.87979327, 0.        ,\n",
       "       0.        ])"
      ]
     },
     "execution_count": 918,
     "metadata": {},
     "output_type": "execute_result"
    }
   ],
   "source": [
    "values_hacky_C"
   ]
  },
  {
   "cell_type": "code",
   "execution_count": 919,
   "metadata": {},
   "outputs": [
    {
     "data": {
      "text/plain": [
       "array([[  0.46453993,   1.73546007],\n",
       "       [  0.61979167,   1.88020833],\n",
       "       [ -0.87993683,   0.87993683],\n",
       "       [ -2.87979327,   3.14159265],\n",
       "       [-46.        ,  46.        ],\n",
       "       [-38.        ,  38.        ]])"
      ]
     },
     "execution_count": 919,
     "metadata": {},
     "output_type": "execute_result"
    }
   ],
   "source": [
    "np.array([mins_C, maxes_C]).T"
   ]
  },
  {
   "cell_type": "code",
   "execution_count": 920,
   "metadata": {},
   "outputs": [
    {
     "data": {
      "text/plain": [
       "array([0.75338542, 0.79166667, 0.07999426, 2.87979327, 0.        ,\n",
       "       0.        ])"
      ]
     },
     "execution_count": 920,
     "metadata": {},
     "output_type": "execute_result"
    }
   ],
   "source": [
    "values_hacky_M"
   ]
  },
  {
   "cell_type": "code",
   "execution_count": 921,
   "metadata": {},
   "outputs": [
    {
     "data": {
      "text/plain": [
       "array([[  0.46453993,   1.73546007],\n",
       "       [  0.61979167,   1.88020833],\n",
       "       [ -0.87993683,   0.87993683],\n",
       "       [ -2.87979327,   3.14159265],\n",
       "       [-46.        ,  46.        ],\n",
       "       [-38.        ,  38.        ]])"
      ]
     },
     "execution_count": 921,
     "metadata": {},
     "output_type": "execute_result"
    }
   ],
   "source": [
    "np.array([mins_M, maxes_M]).T"
   ]
  },
  {
   "cell_type": "code",
   "execution_count": 922,
   "metadata": {},
   "outputs": [
    {
     "data": {
      "text/plain": [
       "[0.5, 1.1, 0.0, 0.5235987755982988, 3.0, -5.0]"
      ]
     },
     "execution_count": 922,
     "metadata": {},
     "output_type": "execute_result"
    }
   ],
   "source": [
    "[scale_x, scale_y, shear_radians, rotate_radians, offset_x, offset_y]"
   ]
  },
  {
   "cell_type": "code",
   "execution_count": 923,
   "metadata": {},
   "outputs": [
    {
     "data": {
      "text/plain": [
       "[0.0170532684699702,\n",
       " 0.0893264570222628,\n",
       " 0.13145428027006795,\n",
       " 0.13605081608304284,\n",
       " 0.148607710105917,\n",
       " 0.1581462430436594,\n",
       " 0.19235743374756897,\n",
       " 0.19235743374756897,\n",
       " 0.19235743374756897]"
      ]
     },
     "execution_count": 923,
     "metadata": {},
     "output_type": "execute_result"
    }
   ],
   "source": [
    "[ipm.mutual_information(arr_A_affine_v2, transform_using_values(arr_A, values_hacky_0)), ipm.mutual_information(arr_A_affine_v2, transform_using_values(arr_A, values_hacky_1)), ipm.mutual_information(arr_A_affine_v2, transform_using_values(arr_A, values_hacky_2)), ipm.mutual_information(arr_A_affine_v2, transform_using_values(arr_A, values_hacky_3)), ipm.mutual_information(arr_A_affine_v2, transform_using_values(arr_A, values_hacky_4)), ipm.mutual_information(arr_A_affine_v2, transform_using_values(arr_A, values_hacky_5)), ipm.mutual_information(arr_A_affine_v2, transform_using_values(arr_A, values_hacky_X)), ipm.mutual_information(arr_A_affine_v2, transform_using_values(arr_A, values_hacky_C)), ipm.mutual_information(arr_A_affine_v2, transform_using_values(arr_A, values_hacky_M))]"
   ]
  },
  {
   "cell_type": "code",
   "execution_count": 924,
   "metadata": {},
   "outputs": [
    {
     "data": {
      "text/plain": [
       "<matplotlib.image.AxesImage at 0x7fc5ea046390>"
      ]
     },
     "execution_count": 924,
     "metadata": {},
     "output_type": "execute_result"
    },
    {
     "data": {
      "image/png": "[encoded data removed]",
      "text/plain": [
       "<Figure size 348.632x288 with 1 Axes>"
      ]
     },
     "metadata": {},
     "output_type": "display_data"
    }
   ],
   "source": [
    "plt.matshow(arr_A_affine_v2)"
   ]
  },
  {
   "cell_type": "code",
   "execution_count": 925,
   "metadata": {},
   "outputs": [
    {
     "data": {
      "text/plain": [
       "<matplotlib.image.AxesImage at 0x7fc5ea01be80>"
      ]
     },
     "execution_count": 925,
     "metadata": {},
     "output_type": "execute_result"
    },
    {
     "data": {
      "image/png": "[encoded data removed]",
      "text/plain": [
       "<Figure size 348.632x288 with 1 Axes>"
      ]
     },
     "metadata": {},
     "output_type": "display_data"
    }
   ],
   "source": [
    "plt.matshow(transform_using_values(arr_A, values_hacky_C))"
   ]
  },
  {
   "cell_type": "markdown",
   "metadata": {},
   "source": [
    "#### `cartesian_to_log_polar(arr_in: np.array)`"
   ]
  },
  {
   "cell_type": "code",
   "execution_count": 27,
   "metadata": {},
   "outputs": [],
   "source": [
    "arr_A_log_polar = ipm.cartesian_to_log_polar(arr_A)"
   ]
  },
  {
   "cell_type": "code",
   "execution_count": 28,
   "metadata": {},
   "outputs": [
    {
     "data": {
      "text/plain": [
       "<matplotlib.image.AxesImage at 0x7fbe6d819eb8>"
      ]
     },
     "execution_count": 28,
     "metadata": {},
     "output_type": "execute_result"
    },
    {
     "data": {
      "image/png": "[encoded data removed]",
      "text/plain": [
       "<Figure size 348.632x288 with 1 Axes>"
      ]
     },
     "metadata": {},
     "output_type": "display_data"
    }
   ],
   "source": [
    "plt.matshow(arr_A_log_polar)"
   ]
  },
  {
   "cell_type": "code",
   "execution_count": 37,
   "metadata": {},
   "outputs": [],
   "source": [
    "#arr_A_big = scipy.misc.imresize(arr_A, 4.0)\n",
    "arr_A_big = skimage.transform.resize(arr_A, (arr_A.shape[0]*64.0, arr_A.shape[1]*64.0), mode='reflect', anti_aliasing=True)"
   ]
  },
  {
   "cell_type": "code",
   "execution_count": 38,
   "metadata": {},
   "outputs": [],
   "source": [
    "arr_A_big_log_polar = ipm.cartesian_to_log_polar(arr_A_big)"
   ]
  },
  {
   "cell_type": "code",
   "execution_count": 39,
   "metadata": {},
   "outputs": [
    {
     "data": {
      "text/plain": [
       "<matplotlib.image.AxesImage at 0x7f65840a5c18>"
      ]
     },
     "execution_count": 39,
     "metadata": {},
     "output_type": "execute_result"
    }
   ],
   "source": [
    "plt.matshow(arr_A_big_log_polar)"
   ]
  },
  {
   "cell_type": "code",
   "execution_count": 29,
   "metadata": {},
   "outputs": [],
   "source": [
    "data_1_0_log_polar = ipm.cartesian_to_log_polar(signal_1.data[0])"
   ]
  },
  {
   "cell_type": "code",
   "execution_count": 30,
   "metadata": {},
   "outputs": [
    {
     "data": {
      "text/plain": [
       "<matplotlib.image.AxesImage at 0x7fbe6d7f89b0>"
      ]
     },
     "execution_count": 30,
     "metadata": {},
     "output_type": "execute_result"
    },
    {
     "data": {
      "image/png": "[encoded data removed]",
      "text/plain": [
       "<Figure size 348.632x288 with 1 Axes>"
      ]
     },
     "metadata": {},
     "output_type": "display_data"
    }
   ],
   "source": [
    "plt.matshow(data_1_0_log_polar)"
   ]
  },
  {
   "cell_type": "markdown",
   "metadata": {},
   "source": [
    "#### `log_polar_to_cartesian(arr_in: np.array)`"
   ]
  },
  {
   "cell_type": "code",
   "execution_count": 31,
   "metadata": {},
   "outputs": [],
   "source": [
    "arr_A_cartesian = ipm.log_polar_to_cartesian(arr_A_log_polar)"
   ]
  },
  {
   "cell_type": "code",
   "execution_count": 32,
   "metadata": {},
   "outputs": [
    {
     "data": {
      "text/plain": [
       "<matplotlib.image.AxesImage at 0x7fbe6d7543c8>"
      ]
     },
     "execution_count": 32,
     "metadata": {},
     "output_type": "execute_result"
    },
    {
     "data": {
      "image/png": "[encoded data removed]",
      "text/plain": [
       "<Figure size 348.632x288 with 1 Axes>"
      ]
     },
     "metadata": {},
     "output_type": "display_data"
    }
   ],
   "source": [
    "plt.matshow(arr_A_cartesian)"
   ]
  },
  {
   "cell_type": "code",
   "execution_count": 40,
   "metadata": {},
   "outputs": [],
   "source": [
    "arr_A_big_cartesian = ipm.log_polar_to_cartesian(arr_A_big_log_polar)"
   ]
  },
  {
   "cell_type": "code",
   "execution_count": 41,
   "metadata": {},
   "outputs": [
    {
     "data": {
      "text/plain": [
       "<matplotlib.image.AxesImage at 0x7f657c58f080>"
      ]
     },
     "execution_count": 41,
     "metadata": {},
     "output_type": "execute_result"
    }
   ],
   "source": [
    "plt.matshow(arr_A_big_cartesian)"
   ]
  },
  {
   "cell_type": "code",
   "execution_count": 42,
   "metadata": {},
   "outputs": [],
   "source": [
    "arr_A_big_cartesian_downsampled = skimage.transform.resize(arr_A_big_cartesian, arr_A.shape, mode='reflect', anti_aliasing=True)"
   ]
  },
  {
   "cell_type": "code",
   "execution_count": 43,
   "metadata": {},
   "outputs": [
    {
     "data": {
      "text/plain": [
       "<matplotlib.image.AxesImage at 0x7f657c5655c0>"
      ]
     },
     "execution_count": 43,
     "metadata": {},
     "output_type": "execute_result"
    }
   ],
   "source": [
    "plt.matshow(arr_A_big_cartesian_downsampled)"
   ]
  },
  {
   "cell_type": "code",
   "execution_count": 33,
   "metadata": {},
   "outputs": [],
   "source": [
    "data_1_0_cartesian = ipm.log_polar_to_cartesian(data_1_0_log_polar)"
   ]
  },
  {
   "cell_type": "code",
   "execution_count": 34,
   "metadata": {},
   "outputs": [
    {
     "data": {
      "text/plain": [
       "<matplotlib.image.AxesImage at 0x7fbe6d72ce80>"
      ]
     },
     "execution_count": 34,
     "metadata": {},
     "output_type": "execute_result"
    },
    {
     "data": {
      "image/png": "[encoded data removed]",
      "text/plain": [
       "<Figure size 348.632x288 with 1 Axes>"
      ]
     },
     "metadata": {},
     "output_type": "display_data"
    }
   ],
   "source": [
    "plt.matshow(data_1_0_cartesian)"
   ]
  },
  {
   "cell_type": "markdown",
   "metadata": {},
   "source": [
    "#### Apply rigid registration to log-polar signal"
   ]
  },
  {
   "cell_type": "code",
   "execution_count": 49,
   "metadata": {},
   "outputs": [],
   "source": [
    "signal_2_log_polar = ipm.log_polar_signal(signal_2)"
   ]
  },
  {
   "cell_type": "code",
   "execution_count": 50,
   "metadata": {},
   "outputs": [
    {
     "data": {
      "application/vnd.jupyter.widget-view+json": {
       "model_id": "b7646fda9cb040028812d3ec15c8e354",
       "version_major": 2,
       "version_minor": 0
      },
      "text/plain": [
       "HBox(children=(IntProgress(value=0, max=151), HTML(value='')))"
      ]
     },
     "metadata": {},
     "output_type": "display_data"
    },
    {
     "name": "stdout",
     "output_type": "stream",
     "text": [
      "\n"
     ]
    }
   ],
   "source": [
    "shifts_2_log_polar = signal_2_log_polar.estimate_shift2D(reference='current', sobel=True, medfilter=True, hanning=True, sub_pixel_factor=50)"
   ]
  },
  {
   "cell_type": "code",
   "execution_count": 52,
   "metadata": {},
   "outputs": [],
   "source": [
    "signal_2_log_polar_shifted = hs.signals.Signal2D(np.empty_like(signal_2_log_polar.data))\n",
    "for t in range(signal_2_log_polar.data.shape[0]):\n",
    "    vfield = np.array([np.ones_like(signal_2_log_polar.data[t]) * -shifts_2_log_polar[t][0], np.ones_like(signal_2_log_polar.data[t]) * -shifts_2_log_polar[t][1]])\n",
    "    signal_2_log_polar_shifted.data[t] = ipm.apply_displacement_field_sitk(vfield, signal_2_log_polar.data[t])"
   ]
  },
  {
   "cell_type": "code",
   "execution_count": 53,
   "metadata": {},
   "outputs": [],
   "source": [
    "%matplotlib qt\n",
    "hs.plot.plot_signals([signal_2_log_polar, signal_2_log_polar_shifted])"
   ]
  },
  {
   "cell_type": "code",
   "execution_count": 54,
   "metadata": {},
   "outputs": [],
   "source": [
    "#signal_2_cartesian = ipm.cartesian_signal(signal_2_log_polar_shifted)\n",
    "signal_2_cartesian = hs.signals.Signal2D(np.empty_like(signal_2.data))\n",
    "for t in range(signal_2.data.shape[0]):\n",
    "    signal_2_cartesian.data[t] = ipm.rotate(signal_2.data[t], shifts_2_log_polar[t][0])"
   ]
  },
  {
   "cell_type": "code",
   "execution_count": 55,
   "metadata": {},
   "outputs": [],
   "source": [
    "%matplotlib qt\n",
    "hs.plot.plot_signals([signal_2, signal_2_cartesian])"
   ]
  },
  {
   "cell_type": "code",
   "execution_count": 9,
   "metadata": {},
   "outputs": [
    {
     "data": {
      "application/vnd.jupyter.widget-view+json": {
       "model_id": "c224b656ef4d4257a39f383780c460d8",
       "version_major": 2,
       "version_minor": 0
      },
      "text/plain": [
       "HBox(children=(IntProgress(value=0, max=151), HTML(value='')))"
      ]
     },
     "metadata": {},
     "output_type": "display_data"
    },
    {
     "name": "stdout",
     "output_type": "stream",
     "text": [
      "\n"
     ]
    }
   ],
   "source": [
    "shifts_2_cartesian = signal_2_cartesian.estimate_shift2D(reference='current', sobel=True, medfilter=True, hanning=True, sub_pixel_factor=50)"
   ]
  },
  {
   "cell_type": "code",
   "execution_count": 10,
   "metadata": {},
   "outputs": [],
   "source": [
    "signal_2_cartesian_shifted = hs.signals.Signal2D(np.empty_like(signal_2_cartesian.data))\n",
    "for t in range(signal_2_cartesian.data.shape[0]):\n",
    "    vfield = np.array([np.ones_like(signal_2_cartesian.data[t]) * -shifts_2_cartesian[t][0], np.ones_like(signal_2_cartesian.data[t]) * -shifts_2_cartesian[t][1]])\n",
    "    signal_2_cartesian_shifted.data[t] = ipm.apply_displacement_field_sitk(vfield, signal_2_cartesian.data[t])"
   ]
  },
  {
   "cell_type": "code",
   "execution_count": 11,
   "metadata": {},
   "outputs": [],
   "source": [
    "%matplotlib qt\n",
    "hs.plot.plot_signals([signal_2, signal_2_cartesian_shifted])"
   ]
  }
 ],
 "metadata": {
  "kernelspec": {
   "display_name": "Python 3.6",
   "language": "python",
   "name": "python3"
  },
  "language_info": {
   "codemirror_mode": {
    "name": "ipython",
    "version": 3
   },
   "file_extension": ".py",
   "mimetype": "text/x-python",
   "name": "python",
   "nbconvert_exporter": "python",
   "pygments_lexer": "ipython3",
   "version": "3.6.8"
  }
 },
 "nbformat": 4,
 "nbformat_minor": 2
}
